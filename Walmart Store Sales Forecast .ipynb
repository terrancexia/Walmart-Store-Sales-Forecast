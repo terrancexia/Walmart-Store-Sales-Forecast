{
 "cells": [
  {
   "cell_type": "markdown",
   "metadata": {},
   "source": [
    "# Walmart Store Sales Forecast - In Progress"
   ]
  },
  {
   "cell_type": "markdown",
   "metadata": {},
   "source": [
    "## Background Information\n",
    "\n",
    "Data are provided by Walmart with 45 different stores located in different regions. Each store contains many departments and we will need to project the sales for each department in each store.  Also the holidays markdown are included in the dataset as well. Data is available at: https://www.kaggle.com/c/walmart-recruiting-store-sales-forecasting/data\n",
    "\n",
    "\n",
    "1. stores.csv: This file contains anonymized information about the 45 stores, indicating the type and size of store.\n",
    "\n",
    "2. train.csv: This is the historical training data, which covers to 2010-02-05 to 2012-11-01. Within this file you will find the following fields:\n",
    "\n",
    "    Store - the store number\n",
    "    Dept - the department number\n",
    "    Date - the week\n",
    "    Weekly_Sales -  sales for the given department in the given store\n",
    "    IsHoliday - whether the week is a special holiday week\n",
    "\n",
    "3. test.csv: This file is identical to train.csv, except the actual weekly sales have been withheld. The task is to predict the sales for each store.\n",
    "\n",
    "\n",
    "4. features.csv: This file contains additional data related to the store, department, and regional activity for the given dates. It contains the following fields:\n",
    "\n",
    "    Store - the store number\n",
    "    Date - the week\n",
    "    Temperature - average temperature in the region\n",
    "    Fuel_Price - cost of fuel in the region\n",
    "    MarkDown1-5 - anonymized data related to promotional markdowns that Walmart is running. MarkDown data is only available after Nov 2011, and is not available for all stores all the time. Any missing value is marked with an NA.\n",
    "    CPI - the consumer price index\n",
    "    Unemployment - the unemployment rate\n",
    "    IsHoliday - whether the week is a special holiday week\n",
    "\n"
   ]
  }
 ],
 "metadata": {
  "kernelspec": {
   "display_name": "Python 3",
   "language": "python",
   "name": "python3"
  },
  "language_info": {
   "codemirror_mode": {
    "name": "ipython",
    "version": 3
   },
   "file_extension": ".py",
   "mimetype": "text/x-python",
   "name": "python",
   "nbconvert_exporter": "python",
   "pygments_lexer": "ipython3",
   "version": "3.7.3"
  },
  "toc": {
   "base_numbering": 1,
   "nav_menu": {},
   "number_sections": true,
   "sideBar": true,
   "skip_h1_title": false,
   "title_cell": "Table of Contents",
   "title_sidebar": "Contents",
   "toc_cell": false,
   "toc_position": {},
   "toc_section_display": true,
   "toc_window_display": false
  },
  "varInspector": {
   "cols": {
    "lenName": 16,
    "lenType": 16,
    "lenVar": 40
   },
   "kernels_config": {
    "python": {
     "delete_cmd_postfix": "",
     "delete_cmd_prefix": "del ",
     "library": "var_list.py",
     "varRefreshCmd": "print(var_dic_list())"
    },
    "r": {
     "delete_cmd_postfix": ") ",
     "delete_cmd_prefix": "rm(",
     "library": "var_list.r",
     "varRefreshCmd": "cat(var_dic_list()) "
    }
   },
   "types_to_exclude": [
    "module",
    "function",
    "builtin_function_or_method",
    "instance",
    "_Feature"
   ],
   "window_display": false
  }
 },
 "nbformat": 4,
 "nbformat_minor": 2
}
