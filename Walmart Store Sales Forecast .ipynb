{
 "cells": [
  {
   "cell_type": "markdown",
   "metadata": {},
   "source": [
    "# Walmart Store Sales Forecast - In Progress"
   ]
  },
  {
   "cell_type": "markdown",
   "metadata": {},
   "source": [
    "## Background Information\n",
    "\n",
    "Data are provided by Walmart with 45 different stores located in different regions. Each store contains many departments and we will need to project the sales for each department in each store.  Also the holidays markdown are included in the dataset as well. Data is available at: https://www.kaggle.com/c/walmart-recruiting-store-sales-forecasting/data\n",
    "\n",
    "\n",
    "1. stores.csv: This file contains anonymized information about the 45 stores, indicating the type and size of store.\n",
    "\n",
    "\n",
    "2. train.csv: This is the historical training data, which covers to 2010-02-05 to 2012-11-01. Within this file you will find the following fields:\n",
    "\n",
    "    Store - the store number <br>\n",
    "    Dept - the department number <br>\n",
    "    Date - the week <br>\n",
    "    Weekly_Sales -  sales for the given department in the given store <br>\n",
    "    IsHoliday - whether the week is a special holiday week <br>\n",
    "    \n",
    "\n",
    "3. test.csv: This file is identical to train.csv, except the actual weekly sales have been withheld. The task is to predict the sales for each store.\n",
    "\n",
    "\n",
    "4. features.csv: This file contains additional data related to the store, department, and regional activity for the given dates. It contains the following fields:\n",
    "\n",
    "    Store - the store number\n",
    "    Date - the week\n",
    "    Temperature - average temperature in the region\n",
    "    Fuel_Price - cost of fuel in the region\n",
    "    MarkDown1-5 - anonymized data related to promotional markdowns that Walmart is running. MarkDown data is only available after Nov 2011, and is not available for all stores all the time. Any missing value is marked with an NA.\n",
    "    CPI - the consumer price index\n",
    "    Unemployment - the unemployment rate\n",
    "    IsHoliday - whether the week is a special holiday week\n",
    "\n"
   ]
  },
  {
   "cell_type": "markdown",
   "metadata": {},
   "source": [
    "# Import Packages and Data"
   ]
  },
  {
   "cell_type": "code",
   "execution_count": 40,
   "metadata": {
    "ExecuteTime": {
     "end_time": "2020-03-18T03:57:26.198416Z",
     "start_time": "2020-03-18T03:57:26.170816Z"
    }
   },
   "outputs": [],
   "source": [
    "#import packages\n",
    "import numpy as np\n",
    "import pandas as pd\n",
    "\n",
    "pd.set_option('display.max_rows', 500)\n",
    "pd.set_option('display.max_columns', 500)\n",
    "pd.set_option('display.width', 1000)\n",
    "\n",
    "import matplotlib.pyplot as plt\n",
    "%matplotlib inline\n",
    "import seaborn as sns\n",
    "from scipy import stats\n",
    "import statsmodels.api as sm \n",
    "\n",
    "pd.set_option('display.max_columns',None)\n",
    "\n",
    "import warnings\n",
    "warnings.filterwarnings('ignore')\n",
    "\n",
    "import datetime"
   ]
  },
  {
   "cell_type": "code",
   "execution_count": 2,
   "metadata": {
    "ExecuteTime": {
     "end_time": "2020-03-18T02:05:06.685600Z",
     "start_time": "2020-03-18T02:05:05.288600Z"
    }
   },
   "outputs": [],
   "source": [
    "# import data \n",
    "train = pd.read_csv(\"Data/train.csv\")\n",
    "test =pd.read_csv(\"Data/test.csv\")\n",
    "stores = pd.read_csv(\"Data/stores.csv\")\n",
    "features = pd.read_csv(\"Data/features.csv\")"
   ]
  },
  {
   "cell_type": "code",
   "execution_count": 3,
   "metadata": {
    "ExecuteTime": {
     "end_time": "2020-03-18T02:05:06.862800Z",
     "start_time": "2020-03-18T02:05:06.825800Z"
    }
   },
   "outputs": [
    {
     "data": {
      "text/html": [
       "<div>\n",
       "<style scoped>\n",
       "    .dataframe tbody tr th:only-of-type {\n",
       "        vertical-align: middle;\n",
       "    }\n",
       "\n",
       "    .dataframe tbody tr th {\n",
       "        vertical-align: top;\n",
       "    }\n",
       "\n",
       "    .dataframe thead th {\n",
       "        text-align: right;\n",
       "    }\n",
       "</style>\n",
       "<table border=\"1\" class=\"dataframe\">\n",
       "  <thead>\n",
       "    <tr style=\"text-align: right;\">\n",
       "      <th></th>\n",
       "      <th>Store</th>\n",
       "      <th>Dept</th>\n",
       "      <th>Date</th>\n",
       "      <th>Weekly_Sales</th>\n",
       "      <th>IsHoliday</th>\n",
       "    </tr>\n",
       "  </thead>\n",
       "  <tbody>\n",
       "    <tr>\n",
       "      <th>0</th>\n",
       "      <td>1</td>\n",
       "      <td>1</td>\n",
       "      <td>2010-02-05</td>\n",
       "      <td>24924.50</td>\n",
       "      <td>False</td>\n",
       "    </tr>\n",
       "    <tr>\n",
       "      <th>1</th>\n",
       "      <td>1</td>\n",
       "      <td>1</td>\n",
       "      <td>2010-02-12</td>\n",
       "      <td>46039.49</td>\n",
       "      <td>True</td>\n",
       "    </tr>\n",
       "    <tr>\n",
       "      <th>2</th>\n",
       "      <td>1</td>\n",
       "      <td>1</td>\n",
       "      <td>2010-02-19</td>\n",
       "      <td>41595.55</td>\n",
       "      <td>False</td>\n",
       "    </tr>\n",
       "    <tr>\n",
       "      <th>3</th>\n",
       "      <td>1</td>\n",
       "      <td>1</td>\n",
       "      <td>2010-02-26</td>\n",
       "      <td>19403.54</td>\n",
       "      <td>False</td>\n",
       "    </tr>\n",
       "    <tr>\n",
       "      <th>4</th>\n",
       "      <td>1</td>\n",
       "      <td>1</td>\n",
       "      <td>2010-03-05</td>\n",
       "      <td>21827.90</td>\n",
       "      <td>False</td>\n",
       "    </tr>\n",
       "  </tbody>\n",
       "</table>\n",
       "</div>"
      ],
      "text/plain": [
       "   Store  Dept        Date  Weekly_Sales  IsHoliday\n",
       "0      1     1  2010-02-05      24924.50      False\n",
       "1      1     1  2010-02-12      46039.49       True\n",
       "2      1     1  2010-02-19      41595.55      False\n",
       "3      1     1  2010-02-26      19403.54      False\n",
       "4      1     1  2010-03-05      21827.90      False"
      ]
     },
     "execution_count": 3,
     "metadata": {},
     "output_type": "execute_result"
    }
   ],
   "source": [
    "#inspect data\n",
    "train.head()"
   ]
  },
  {
   "cell_type": "code",
   "execution_count": 4,
   "metadata": {
    "ExecuteTime": {
     "end_time": "2020-03-18T02:05:07.011800Z",
     "start_time": "2020-03-18T02:05:07.000800Z"
    }
   },
   "outputs": [
    {
     "data": {
      "text/html": [
       "<div>\n",
       "<style scoped>\n",
       "    .dataframe tbody tr th:only-of-type {\n",
       "        vertical-align: middle;\n",
       "    }\n",
       "\n",
       "    .dataframe tbody tr th {\n",
       "        vertical-align: top;\n",
       "    }\n",
       "\n",
       "    .dataframe thead th {\n",
       "        text-align: right;\n",
       "    }\n",
       "</style>\n",
       "<table border=\"1\" class=\"dataframe\">\n",
       "  <thead>\n",
       "    <tr style=\"text-align: right;\">\n",
       "      <th></th>\n",
       "      <th>Store</th>\n",
       "      <th>Dept</th>\n",
       "      <th>Date</th>\n",
       "      <th>IsHoliday</th>\n",
       "    </tr>\n",
       "  </thead>\n",
       "  <tbody>\n",
       "    <tr>\n",
       "      <th>0</th>\n",
       "      <td>1</td>\n",
       "      <td>1</td>\n",
       "      <td>2012-11-02</td>\n",
       "      <td>False</td>\n",
       "    </tr>\n",
       "    <tr>\n",
       "      <th>1</th>\n",
       "      <td>1</td>\n",
       "      <td>1</td>\n",
       "      <td>2012-11-09</td>\n",
       "      <td>False</td>\n",
       "    </tr>\n",
       "    <tr>\n",
       "      <th>2</th>\n",
       "      <td>1</td>\n",
       "      <td>1</td>\n",
       "      <td>2012-11-16</td>\n",
       "      <td>False</td>\n",
       "    </tr>\n",
       "    <tr>\n",
       "      <th>3</th>\n",
       "      <td>1</td>\n",
       "      <td>1</td>\n",
       "      <td>2012-11-23</td>\n",
       "      <td>True</td>\n",
       "    </tr>\n",
       "    <tr>\n",
       "      <th>4</th>\n",
       "      <td>1</td>\n",
       "      <td>1</td>\n",
       "      <td>2012-11-30</td>\n",
       "      <td>False</td>\n",
       "    </tr>\n",
       "  </tbody>\n",
       "</table>\n",
       "</div>"
      ],
      "text/plain": [
       "   Store  Dept        Date  IsHoliday\n",
       "0      1     1  2012-11-02      False\n",
       "1      1     1  2012-11-09      False\n",
       "2      1     1  2012-11-16      False\n",
       "3      1     1  2012-11-23       True\n",
       "4      1     1  2012-11-30      False"
      ]
     },
     "execution_count": 4,
     "metadata": {},
     "output_type": "execute_result"
    }
   ],
   "source": [
    "test.head()"
   ]
  },
  {
   "cell_type": "code",
   "execution_count": 5,
   "metadata": {
    "ExecuteTime": {
     "end_time": "2020-03-18T02:05:07.191800Z",
     "start_time": "2020-03-18T02:05:07.177800Z"
    }
   },
   "outputs": [
    {
     "data": {
      "text/html": [
       "<div>\n",
       "<style scoped>\n",
       "    .dataframe tbody tr th:only-of-type {\n",
       "        vertical-align: middle;\n",
       "    }\n",
       "\n",
       "    .dataframe tbody tr th {\n",
       "        vertical-align: top;\n",
       "    }\n",
       "\n",
       "    .dataframe thead th {\n",
       "        text-align: right;\n",
       "    }\n",
       "</style>\n",
       "<table border=\"1\" class=\"dataframe\">\n",
       "  <thead>\n",
       "    <tr style=\"text-align: right;\">\n",
       "      <th></th>\n",
       "      <th>Store</th>\n",
       "      <th>Date</th>\n",
       "      <th>Temperature</th>\n",
       "      <th>Fuel_Price</th>\n",
       "      <th>MarkDown1</th>\n",
       "      <th>MarkDown2</th>\n",
       "      <th>MarkDown3</th>\n",
       "      <th>MarkDown4</th>\n",
       "      <th>MarkDown5</th>\n",
       "      <th>CPI</th>\n",
       "      <th>Unemployment</th>\n",
       "      <th>IsHoliday</th>\n",
       "    </tr>\n",
       "  </thead>\n",
       "  <tbody>\n",
       "    <tr>\n",
       "      <th>0</th>\n",
       "      <td>1</td>\n",
       "      <td>2010-02-05</td>\n",
       "      <td>42.31</td>\n",
       "      <td>2.572</td>\n",
       "      <td>NaN</td>\n",
       "      <td>NaN</td>\n",
       "      <td>NaN</td>\n",
       "      <td>NaN</td>\n",
       "      <td>NaN</td>\n",
       "      <td>211.096358</td>\n",
       "      <td>8.106</td>\n",
       "      <td>False</td>\n",
       "    </tr>\n",
       "    <tr>\n",
       "      <th>1</th>\n",
       "      <td>1</td>\n",
       "      <td>2010-02-12</td>\n",
       "      <td>38.51</td>\n",
       "      <td>2.548</td>\n",
       "      <td>NaN</td>\n",
       "      <td>NaN</td>\n",
       "      <td>NaN</td>\n",
       "      <td>NaN</td>\n",
       "      <td>NaN</td>\n",
       "      <td>211.242170</td>\n",
       "      <td>8.106</td>\n",
       "      <td>True</td>\n",
       "    </tr>\n",
       "    <tr>\n",
       "      <th>2</th>\n",
       "      <td>1</td>\n",
       "      <td>2010-02-19</td>\n",
       "      <td>39.93</td>\n",
       "      <td>2.514</td>\n",
       "      <td>NaN</td>\n",
       "      <td>NaN</td>\n",
       "      <td>NaN</td>\n",
       "      <td>NaN</td>\n",
       "      <td>NaN</td>\n",
       "      <td>211.289143</td>\n",
       "      <td>8.106</td>\n",
       "      <td>False</td>\n",
       "    </tr>\n",
       "    <tr>\n",
       "      <th>3</th>\n",
       "      <td>1</td>\n",
       "      <td>2010-02-26</td>\n",
       "      <td>46.63</td>\n",
       "      <td>2.561</td>\n",
       "      <td>NaN</td>\n",
       "      <td>NaN</td>\n",
       "      <td>NaN</td>\n",
       "      <td>NaN</td>\n",
       "      <td>NaN</td>\n",
       "      <td>211.319643</td>\n",
       "      <td>8.106</td>\n",
       "      <td>False</td>\n",
       "    </tr>\n",
       "    <tr>\n",
       "      <th>4</th>\n",
       "      <td>1</td>\n",
       "      <td>2010-03-05</td>\n",
       "      <td>46.50</td>\n",
       "      <td>2.625</td>\n",
       "      <td>NaN</td>\n",
       "      <td>NaN</td>\n",
       "      <td>NaN</td>\n",
       "      <td>NaN</td>\n",
       "      <td>NaN</td>\n",
       "      <td>211.350143</td>\n",
       "      <td>8.106</td>\n",
       "      <td>False</td>\n",
       "    </tr>\n",
       "  </tbody>\n",
       "</table>\n",
       "</div>"
      ],
      "text/plain": [
       "   Store        Date  Temperature  Fuel_Price  MarkDown1  MarkDown2  MarkDown3  MarkDown4  MarkDown5         CPI  Unemployment  IsHoliday\n",
       "0      1  2010-02-05        42.31       2.572        NaN        NaN        NaN        NaN        NaN  211.096358         8.106      False\n",
       "1      1  2010-02-12        38.51       2.548        NaN        NaN        NaN        NaN        NaN  211.242170         8.106       True\n",
       "2      1  2010-02-19        39.93       2.514        NaN        NaN        NaN        NaN        NaN  211.289143         8.106      False\n",
       "3      1  2010-02-26        46.63       2.561        NaN        NaN        NaN        NaN        NaN  211.319643         8.106      False\n",
       "4      1  2010-03-05        46.50       2.625        NaN        NaN        NaN        NaN        NaN  211.350143         8.106      False"
      ]
     },
     "execution_count": 5,
     "metadata": {},
     "output_type": "execute_result"
    }
   ],
   "source": [
    "features.head()"
   ]
  },
  {
   "cell_type": "code",
   "execution_count": 6,
   "metadata": {
    "ExecuteTime": {
     "end_time": "2020-03-18T02:05:07.355800Z",
     "start_time": "2020-03-18T02:05:07.346800Z"
    }
   },
   "outputs": [
    {
     "data": {
      "text/html": [
       "<div>\n",
       "<style scoped>\n",
       "    .dataframe tbody tr th:only-of-type {\n",
       "        vertical-align: middle;\n",
       "    }\n",
       "\n",
       "    .dataframe tbody tr th {\n",
       "        vertical-align: top;\n",
       "    }\n",
       "\n",
       "    .dataframe thead th {\n",
       "        text-align: right;\n",
       "    }\n",
       "</style>\n",
       "<table border=\"1\" class=\"dataframe\">\n",
       "  <thead>\n",
       "    <tr style=\"text-align: right;\">\n",
       "      <th></th>\n",
       "      <th>Store</th>\n",
       "      <th>Type</th>\n",
       "      <th>Size</th>\n",
       "    </tr>\n",
       "  </thead>\n",
       "  <tbody>\n",
       "    <tr>\n",
       "      <th>0</th>\n",
       "      <td>1</td>\n",
       "      <td>A</td>\n",
       "      <td>151315</td>\n",
       "    </tr>\n",
       "    <tr>\n",
       "      <th>1</th>\n",
       "      <td>2</td>\n",
       "      <td>A</td>\n",
       "      <td>202307</td>\n",
       "    </tr>\n",
       "    <tr>\n",
       "      <th>2</th>\n",
       "      <td>3</td>\n",
       "      <td>B</td>\n",
       "      <td>37392</td>\n",
       "    </tr>\n",
       "    <tr>\n",
       "      <th>3</th>\n",
       "      <td>4</td>\n",
       "      <td>A</td>\n",
       "      <td>205863</td>\n",
       "    </tr>\n",
       "    <tr>\n",
       "      <th>4</th>\n",
       "      <td>5</td>\n",
       "      <td>B</td>\n",
       "      <td>34875</td>\n",
       "    </tr>\n",
       "  </tbody>\n",
       "</table>\n",
       "</div>"
      ],
      "text/plain": [
       "   Store Type    Size\n",
       "0      1    A  151315\n",
       "1      2    A  202307\n",
       "2      3    B   37392\n",
       "3      4    A  205863\n",
       "4      5    B   34875"
      ]
     },
     "execution_count": 6,
     "metadata": {},
     "output_type": "execute_result"
    }
   ],
   "source": [
    "stores.head()"
   ]
  },
  {
   "cell_type": "markdown",
   "metadata": {
    "ExecuteTime": {
     "end_time": "2020-03-17T06:22:21.399945Z",
     "start_time": "2020-03-17T06:22:21.384345Z"
    }
   },
   "source": [
    "# Data Cleaning and manipulation\n",
    "\n",
    "In the data cleaning, I will perform the following steps:\n",
    "\n",
    "1.  Create an new column Weekly_Sales so we can combine train and test for cleaning purpose\n",
    "2.  Create a store_id column by combining store number, department number, and date for training and testing data. Based on the original data, each row is record as weekly sales for that particular department in that store on the particular date. However, there is no unique identifier that we can identify each records for training and testing. \n",
    "3. Combine training and test for clean purpose\n",
    "4. Join features tables and store tables to the new combined and train df\n",
    "5. Replace markdown price Nan to 0 since Nan means no markdown at that time. \n",
    "6. Change date column to date format\n",
    "6. Replace missing values \n",
    "7. Replace categorical values to dummy or numbers. If the category has more than 2 categories change to dummy otherwise replace with 1 or 0\n"
   ]
  },
  {
   "cell_type": "markdown",
   "metadata": {
    "ExecuteTime": {
     "end_time": "2020-03-17T07:31:09.139250Z",
     "start_time": "2020-03-17T07:31:09.129250Z"
    }
   },
   "source": [
    "## 1. Create an new column Weekly_Sales with test with null value"
   ]
  },
  {
   "cell_type": "code",
   "execution_count": 7,
   "metadata": {
    "ExecuteTime": {
     "end_time": "2020-03-18T02:05:09.390800Z",
     "start_time": "2020-03-18T02:05:09.375800Z"
    }
   },
   "outputs": [],
   "source": [
    "test['Weekly_Sales']= np.NaN"
   ]
  },
  {
   "cell_type": "markdown",
   "metadata": {
    "ExecuteTime": {
     "end_time": "2020-03-17T07:32:07.707150Z",
     "start_time": "2020-03-17T07:31:11.023250Z"
    }
   },
   "source": [
    "## 2. Create a store_id by combing store number, department number, and date for train/test"
   ]
  },
  {
   "cell_type": "code",
   "execution_count": 8,
   "metadata": {
    "ExecuteTime": {
     "end_time": "2020-03-18T02:05:55.195600Z",
     "start_time": "2020-03-18T02:05:12.077800Z"
    }
   },
   "outputs": [],
   "source": [
    "train['Store_Id'] = train[train.columns[:3]].apply(lambda x: '_'.join(x.astype(str)), axis=1)"
   ]
  },
  {
   "cell_type": "code",
   "execution_count": 9,
   "metadata": {
    "ExecuteTime": {
     "end_time": "2020-03-18T02:06:07.292200Z",
     "start_time": "2020-03-18T02:05:55.346600Z"
    }
   },
   "outputs": [
    {
     "data": {
      "text/html": [
       "<div>\n",
       "<style scoped>\n",
       "    .dataframe tbody tr th:only-of-type {\n",
       "        vertical-align: middle;\n",
       "    }\n",
       "\n",
       "    .dataframe tbody tr th {\n",
       "        vertical-align: top;\n",
       "    }\n",
       "\n",
       "    .dataframe thead th {\n",
       "        text-align: right;\n",
       "    }\n",
       "</style>\n",
       "<table border=\"1\" class=\"dataframe\">\n",
       "  <thead>\n",
       "    <tr style=\"text-align: right;\">\n",
       "      <th></th>\n",
       "      <th>Store</th>\n",
       "      <th>Dept</th>\n",
       "      <th>Date</th>\n",
       "      <th>Weekly_Sales</th>\n",
       "      <th>IsHoliday</th>\n",
       "      <th>Store_Id</th>\n",
       "    </tr>\n",
       "  </thead>\n",
       "  <tbody>\n",
       "    <tr>\n",
       "      <th>0</th>\n",
       "      <td>1</td>\n",
       "      <td>1</td>\n",
       "      <td>2010-02-05</td>\n",
       "      <td>24924.50</td>\n",
       "      <td>False</td>\n",
       "      <td>1_1_2010-02-05</td>\n",
       "    </tr>\n",
       "    <tr>\n",
       "      <th>1</th>\n",
       "      <td>1</td>\n",
       "      <td>1</td>\n",
       "      <td>2010-02-12</td>\n",
       "      <td>46039.49</td>\n",
       "      <td>True</td>\n",
       "      <td>1_1_2010-02-12</td>\n",
       "    </tr>\n",
       "    <tr>\n",
       "      <th>2</th>\n",
       "      <td>1</td>\n",
       "      <td>1</td>\n",
       "      <td>2010-02-19</td>\n",
       "      <td>41595.55</td>\n",
       "      <td>False</td>\n",
       "      <td>1_1_2010-02-19</td>\n",
       "    </tr>\n",
       "    <tr>\n",
       "      <th>3</th>\n",
       "      <td>1</td>\n",
       "      <td>1</td>\n",
       "      <td>2010-02-26</td>\n",
       "      <td>19403.54</td>\n",
       "      <td>False</td>\n",
       "      <td>1_1_2010-02-26</td>\n",
       "    </tr>\n",
       "    <tr>\n",
       "      <th>4</th>\n",
       "      <td>1</td>\n",
       "      <td>1</td>\n",
       "      <td>2010-03-05</td>\n",
       "      <td>21827.90</td>\n",
       "      <td>False</td>\n",
       "      <td>1_1_2010-03-05</td>\n",
       "    </tr>\n",
       "  </tbody>\n",
       "</table>\n",
       "</div>"
      ],
      "text/plain": [
       "   Store  Dept        Date  Weekly_Sales  IsHoliday        Store_Id\n",
       "0      1     1  2010-02-05      24924.50      False  1_1_2010-02-05\n",
       "1      1     1  2010-02-12      46039.49       True  1_1_2010-02-12\n",
       "2      1     1  2010-02-19      41595.55      False  1_1_2010-02-19\n",
       "3      1     1  2010-02-26      19403.54      False  1_1_2010-02-26\n",
       "4      1     1  2010-03-05      21827.90      False  1_1_2010-03-05"
      ]
     },
     "metadata": {},
     "output_type": "display_data"
    },
    {
     "data": {
      "text/html": [
       "<div>\n",
       "<style scoped>\n",
       "    .dataframe tbody tr th:only-of-type {\n",
       "        vertical-align: middle;\n",
       "    }\n",
       "\n",
       "    .dataframe tbody tr th {\n",
       "        vertical-align: top;\n",
       "    }\n",
       "\n",
       "    .dataframe thead th {\n",
       "        text-align: right;\n",
       "    }\n",
       "</style>\n",
       "<table border=\"1\" class=\"dataframe\">\n",
       "  <thead>\n",
       "    <tr style=\"text-align: right;\">\n",
       "      <th></th>\n",
       "      <th>Store</th>\n",
       "      <th>Dept</th>\n",
       "      <th>Date</th>\n",
       "      <th>IsHoliday</th>\n",
       "      <th>Weekly_Sales</th>\n",
       "      <th>Store_Id</th>\n",
       "    </tr>\n",
       "  </thead>\n",
       "  <tbody>\n",
       "    <tr>\n",
       "      <th>0</th>\n",
       "      <td>1</td>\n",
       "      <td>1</td>\n",
       "      <td>2012-11-02</td>\n",
       "      <td>False</td>\n",
       "      <td>NaN</td>\n",
       "      <td>1_1_2012-11-02</td>\n",
       "    </tr>\n",
       "    <tr>\n",
       "      <th>1</th>\n",
       "      <td>1</td>\n",
       "      <td>1</td>\n",
       "      <td>2012-11-09</td>\n",
       "      <td>False</td>\n",
       "      <td>NaN</td>\n",
       "      <td>1_1_2012-11-09</td>\n",
       "    </tr>\n",
       "    <tr>\n",
       "      <th>2</th>\n",
       "      <td>1</td>\n",
       "      <td>1</td>\n",
       "      <td>2012-11-16</td>\n",
       "      <td>False</td>\n",
       "      <td>NaN</td>\n",
       "      <td>1_1_2012-11-16</td>\n",
       "    </tr>\n",
       "    <tr>\n",
       "      <th>3</th>\n",
       "      <td>1</td>\n",
       "      <td>1</td>\n",
       "      <td>2012-11-23</td>\n",
       "      <td>True</td>\n",
       "      <td>NaN</td>\n",
       "      <td>1_1_2012-11-23</td>\n",
       "    </tr>\n",
       "    <tr>\n",
       "      <th>4</th>\n",
       "      <td>1</td>\n",
       "      <td>1</td>\n",
       "      <td>2012-11-30</td>\n",
       "      <td>False</td>\n",
       "      <td>NaN</td>\n",
       "      <td>1_1_2012-11-30</td>\n",
       "    </tr>\n",
       "  </tbody>\n",
       "</table>\n",
       "</div>"
      ],
      "text/plain": [
       "   Store  Dept        Date  IsHoliday  Weekly_Sales        Store_Id\n",
       "0      1     1  2012-11-02      False           NaN  1_1_2012-11-02\n",
       "1      1     1  2012-11-09      False           NaN  1_1_2012-11-09\n",
       "2      1     1  2012-11-16      False           NaN  1_1_2012-11-16\n",
       "3      1     1  2012-11-23       True           NaN  1_1_2012-11-23\n",
       "4      1     1  2012-11-30      False           NaN  1_1_2012-11-30"
      ]
     },
     "metadata": {},
     "output_type": "display_data"
    }
   ],
   "source": [
    "## 2b. Create a store_id by combing store number, department number, and date for test\n",
    "\n",
    "test['Store_Id'] = test[test.columns[:3]].apply(lambda x: '_'.join(x.astype(str)), axis=1)\n",
    "\n",
    "\n",
    "#sanity check \n",
    "display(train.head())\n",
    "display(test.head())"
   ]
  },
  {
   "cell_type": "markdown",
   "metadata": {
    "ExecuteTime": {
     "end_time": "2020-03-17T07:33:08.503250Z",
     "start_time": "2020-03-17T07:33:08.383250Z"
    }
   },
   "source": [
    "## 3. Combine Train and test data "
   ]
  },
  {
   "cell_type": "code",
   "execution_count": 10,
   "metadata": {
    "ExecuteTime": {
     "end_time": "2020-03-18T02:06:07.604200Z",
     "start_time": "2020-03-18T02:06:07.495200Z"
    }
   },
   "outputs": [
    {
     "name": "stdout",
     "output_type": "stream",
     "text": [
      "Shape for trian:(421570, 6)\n",
      "Shape for test:(115064, 6)\n",
      "Shape for data: (536634, 6)\n"
     ]
    },
    {
     "data": {
      "text/html": [
       "<div>\n",
       "<style scoped>\n",
       "    .dataframe tbody tr th:only-of-type {\n",
       "        vertical-align: middle;\n",
       "    }\n",
       "\n",
       "    .dataframe tbody tr th {\n",
       "        vertical-align: top;\n",
       "    }\n",
       "\n",
       "    .dataframe thead th {\n",
       "        text-align: right;\n",
       "    }\n",
       "</style>\n",
       "<table border=\"1\" class=\"dataframe\">\n",
       "  <thead>\n",
       "    <tr style=\"text-align: right;\">\n",
       "      <th></th>\n",
       "      <th>Date</th>\n",
       "      <th>Dept</th>\n",
       "      <th>IsHoliday</th>\n",
       "      <th>Store</th>\n",
       "      <th>Store_Id</th>\n",
       "      <th>Weekly_Sales</th>\n",
       "    </tr>\n",
       "  </thead>\n",
       "  <tbody>\n",
       "    <tr>\n",
       "      <th>0</th>\n",
       "      <td>2010-02-05</td>\n",
       "      <td>1</td>\n",
       "      <td>False</td>\n",
       "      <td>1</td>\n",
       "      <td>1_1_2010-02-05</td>\n",
       "      <td>24924.50</td>\n",
       "    </tr>\n",
       "    <tr>\n",
       "      <th>1</th>\n",
       "      <td>2010-02-12</td>\n",
       "      <td>1</td>\n",
       "      <td>True</td>\n",
       "      <td>1</td>\n",
       "      <td>1_1_2010-02-12</td>\n",
       "      <td>46039.49</td>\n",
       "    </tr>\n",
       "    <tr>\n",
       "      <th>2</th>\n",
       "      <td>2010-02-19</td>\n",
       "      <td>1</td>\n",
       "      <td>False</td>\n",
       "      <td>1</td>\n",
       "      <td>1_1_2010-02-19</td>\n",
       "      <td>41595.55</td>\n",
       "    </tr>\n",
       "    <tr>\n",
       "      <th>3</th>\n",
       "      <td>2010-02-26</td>\n",
       "      <td>1</td>\n",
       "      <td>False</td>\n",
       "      <td>1</td>\n",
       "      <td>1_1_2010-02-26</td>\n",
       "      <td>19403.54</td>\n",
       "    </tr>\n",
       "    <tr>\n",
       "      <th>4</th>\n",
       "      <td>2010-03-05</td>\n",
       "      <td>1</td>\n",
       "      <td>False</td>\n",
       "      <td>1</td>\n",
       "      <td>1_1_2010-03-05</td>\n",
       "      <td>21827.90</td>\n",
       "    </tr>\n",
       "  </tbody>\n",
       "</table>\n",
       "</div>"
      ],
      "text/plain": [
       "         Date  Dept  IsHoliday  Store        Store_Id  Weekly_Sales\n",
       "0  2010-02-05     1      False      1  1_1_2010-02-05      24924.50\n",
       "1  2010-02-12     1       True      1  1_1_2010-02-12      46039.49\n",
       "2  2010-02-19     1      False      1  1_1_2010-02-19      41595.55\n",
       "3  2010-02-26     1      False      1  1_1_2010-02-26      19403.54\n",
       "4  2010-03-05     1      False      1  1_1_2010-03-05      21827.90"
      ]
     },
     "execution_count": 10,
     "metadata": {},
     "output_type": "execute_result"
    }
   ],
   "source": [
    "data = pd.concat([train,test])\n",
    "\n",
    "#sanity check \n",
    "print(f'Shape for trian:{train.shape}')\n",
    "print(f'Shape for test:{test.shape}')\n",
    "print(f'Shape for data: {data.shape}')\n",
    "\n",
    "data.head()"
   ]
  },
  {
   "cell_type": "markdown",
   "metadata": {
    "ExecuteTime": {
     "end_time": "2020-03-17T07:33:18.001750Z",
     "start_time": "2020-03-17T07:33:17.824250Z"
    }
   },
   "source": [
    "## 4 Join stores to data. "
   ]
  },
  {
   "cell_type": "code",
   "execution_count": 11,
   "metadata": {
    "ExecuteTime": {
     "end_time": "2020-03-18T02:06:08.048200Z",
     "start_time": "2020-03-18T02:06:07.906200Z"
    }
   },
   "outputs": [
    {
     "data": {
      "text/html": [
       "<div>\n",
       "<style scoped>\n",
       "    .dataframe tbody tr th:only-of-type {\n",
       "        vertical-align: middle;\n",
       "    }\n",
       "\n",
       "    .dataframe tbody tr th {\n",
       "        vertical-align: top;\n",
       "    }\n",
       "\n",
       "    .dataframe thead th {\n",
       "        text-align: right;\n",
       "    }\n",
       "</style>\n",
       "<table border=\"1\" class=\"dataframe\">\n",
       "  <thead>\n",
       "    <tr style=\"text-align: right;\">\n",
       "      <th></th>\n",
       "      <th>Date</th>\n",
       "      <th>Dept</th>\n",
       "      <th>IsHoliday</th>\n",
       "      <th>Store</th>\n",
       "      <th>Store_Id</th>\n",
       "      <th>Weekly_Sales</th>\n",
       "      <th>Type</th>\n",
       "      <th>Size</th>\n",
       "    </tr>\n",
       "  </thead>\n",
       "  <tbody>\n",
       "    <tr>\n",
       "      <th>0</th>\n",
       "      <td>2010-02-05</td>\n",
       "      <td>1</td>\n",
       "      <td>False</td>\n",
       "      <td>1</td>\n",
       "      <td>1_1_2010-02-05</td>\n",
       "      <td>24924.50</td>\n",
       "      <td>A</td>\n",
       "      <td>151315</td>\n",
       "    </tr>\n",
       "    <tr>\n",
       "      <th>1</th>\n",
       "      <td>2010-02-12</td>\n",
       "      <td>1</td>\n",
       "      <td>True</td>\n",
       "      <td>1</td>\n",
       "      <td>1_1_2010-02-12</td>\n",
       "      <td>46039.49</td>\n",
       "      <td>A</td>\n",
       "      <td>151315</td>\n",
       "    </tr>\n",
       "    <tr>\n",
       "      <th>2</th>\n",
       "      <td>2010-02-19</td>\n",
       "      <td>1</td>\n",
       "      <td>False</td>\n",
       "      <td>1</td>\n",
       "      <td>1_1_2010-02-19</td>\n",
       "      <td>41595.55</td>\n",
       "      <td>A</td>\n",
       "      <td>151315</td>\n",
       "    </tr>\n",
       "    <tr>\n",
       "      <th>3</th>\n",
       "      <td>2010-02-26</td>\n",
       "      <td>1</td>\n",
       "      <td>False</td>\n",
       "      <td>1</td>\n",
       "      <td>1_1_2010-02-26</td>\n",
       "      <td>19403.54</td>\n",
       "      <td>A</td>\n",
       "      <td>151315</td>\n",
       "    </tr>\n",
       "    <tr>\n",
       "      <th>4</th>\n",
       "      <td>2010-03-05</td>\n",
       "      <td>1</td>\n",
       "      <td>False</td>\n",
       "      <td>1</td>\n",
       "      <td>1_1_2010-03-05</td>\n",
       "      <td>21827.90</td>\n",
       "      <td>A</td>\n",
       "      <td>151315</td>\n",
       "    </tr>\n",
       "  </tbody>\n",
       "</table>\n",
       "</div>"
      ],
      "text/plain": [
       "         Date  Dept  IsHoliday  Store        Store_Id  Weekly_Sales Type    Size\n",
       "0  2010-02-05     1      False      1  1_1_2010-02-05      24924.50    A  151315\n",
       "1  2010-02-12     1       True      1  1_1_2010-02-12      46039.49    A  151315\n",
       "2  2010-02-19     1      False      1  1_1_2010-02-19      41595.55    A  151315\n",
       "3  2010-02-26     1      False      1  1_1_2010-02-26      19403.54    A  151315\n",
       "4  2010-03-05     1      False      1  1_1_2010-03-05      21827.90    A  151315"
      ]
     },
     "execution_count": 11,
     "metadata": {},
     "output_type": "execute_result"
    }
   ],
   "source": [
    "#join stores to data with Store number\n",
    "data1 = pd.merge(data, stores, on='Store')\n",
    "\n",
    "#sanity check\n",
    "data1.head()"
   ]
  },
  {
   "cell_type": "code",
   "execution_count": 12,
   "metadata": {
    "ExecuteTime": {
     "end_time": "2020-03-18T02:06:08.890200Z",
     "start_time": "2020-03-18T02:06:08.398200Z"
    }
   },
   "outputs": [
    {
     "data": {
      "text/html": [
       "<div>\n",
       "<style scoped>\n",
       "    .dataframe tbody tr th:only-of-type {\n",
       "        vertical-align: middle;\n",
       "    }\n",
       "\n",
       "    .dataframe tbody tr th {\n",
       "        vertical-align: top;\n",
       "    }\n",
       "\n",
       "    .dataframe thead th {\n",
       "        text-align: right;\n",
       "    }\n",
       "</style>\n",
       "<table border=\"1\" class=\"dataframe\">\n",
       "  <thead>\n",
       "    <tr style=\"text-align: right;\">\n",
       "      <th></th>\n",
       "      <th>Date</th>\n",
       "      <th>Dept</th>\n",
       "      <th>IsHoliday_x</th>\n",
       "      <th>Store</th>\n",
       "      <th>Weekly_Sales</th>\n",
       "      <th>Type</th>\n",
       "      <th>Size</th>\n",
       "      <th>Temperature</th>\n",
       "      <th>Fuel_Price</th>\n",
       "      <th>MarkDown1</th>\n",
       "      <th>MarkDown2</th>\n",
       "      <th>MarkDown3</th>\n",
       "      <th>MarkDown4</th>\n",
       "      <th>MarkDown5</th>\n",
       "      <th>CPI</th>\n",
       "      <th>Unemployment</th>\n",
       "      <th>IsHoliday_y</th>\n",
       "    </tr>\n",
       "    <tr>\n",
       "      <th>Store_Id</th>\n",
       "      <th></th>\n",
       "      <th></th>\n",
       "      <th></th>\n",
       "      <th></th>\n",
       "      <th></th>\n",
       "      <th></th>\n",
       "      <th></th>\n",
       "      <th></th>\n",
       "      <th></th>\n",
       "      <th></th>\n",
       "      <th></th>\n",
       "      <th></th>\n",
       "      <th></th>\n",
       "      <th></th>\n",
       "      <th></th>\n",
       "      <th></th>\n",
       "      <th></th>\n",
       "    </tr>\n",
       "  </thead>\n",
       "  <tbody>\n",
       "    <tr>\n",
       "      <th>1_1_2010-02-05</th>\n",
       "      <td>2010-02-05</td>\n",
       "      <td>1</td>\n",
       "      <td>False</td>\n",
       "      <td>1</td>\n",
       "      <td>24924.50</td>\n",
       "      <td>A</td>\n",
       "      <td>151315</td>\n",
       "      <td>42.31</td>\n",
       "      <td>2.572</td>\n",
       "      <td>NaN</td>\n",
       "      <td>NaN</td>\n",
       "      <td>NaN</td>\n",
       "      <td>NaN</td>\n",
       "      <td>NaN</td>\n",
       "      <td>211.096358</td>\n",
       "      <td>8.106</td>\n",
       "      <td>False</td>\n",
       "    </tr>\n",
       "    <tr>\n",
       "      <th>1_2_2010-02-05</th>\n",
       "      <td>2010-02-05</td>\n",
       "      <td>2</td>\n",
       "      <td>False</td>\n",
       "      <td>1</td>\n",
       "      <td>50605.27</td>\n",
       "      <td>A</td>\n",
       "      <td>151315</td>\n",
       "      <td>42.31</td>\n",
       "      <td>2.572</td>\n",
       "      <td>NaN</td>\n",
       "      <td>NaN</td>\n",
       "      <td>NaN</td>\n",
       "      <td>NaN</td>\n",
       "      <td>NaN</td>\n",
       "      <td>211.096358</td>\n",
       "      <td>8.106</td>\n",
       "      <td>False</td>\n",
       "    </tr>\n",
       "    <tr>\n",
       "      <th>1_3_2010-02-05</th>\n",
       "      <td>2010-02-05</td>\n",
       "      <td>3</td>\n",
       "      <td>False</td>\n",
       "      <td>1</td>\n",
       "      <td>13740.12</td>\n",
       "      <td>A</td>\n",
       "      <td>151315</td>\n",
       "      <td>42.31</td>\n",
       "      <td>2.572</td>\n",
       "      <td>NaN</td>\n",
       "      <td>NaN</td>\n",
       "      <td>NaN</td>\n",
       "      <td>NaN</td>\n",
       "      <td>NaN</td>\n",
       "      <td>211.096358</td>\n",
       "      <td>8.106</td>\n",
       "      <td>False</td>\n",
       "    </tr>\n",
       "    <tr>\n",
       "      <th>1_4_2010-02-05</th>\n",
       "      <td>2010-02-05</td>\n",
       "      <td>4</td>\n",
       "      <td>False</td>\n",
       "      <td>1</td>\n",
       "      <td>39954.04</td>\n",
       "      <td>A</td>\n",
       "      <td>151315</td>\n",
       "      <td>42.31</td>\n",
       "      <td>2.572</td>\n",
       "      <td>NaN</td>\n",
       "      <td>NaN</td>\n",
       "      <td>NaN</td>\n",
       "      <td>NaN</td>\n",
       "      <td>NaN</td>\n",
       "      <td>211.096358</td>\n",
       "      <td>8.106</td>\n",
       "      <td>False</td>\n",
       "    </tr>\n",
       "    <tr>\n",
       "      <th>1_5_2010-02-05</th>\n",
       "      <td>2010-02-05</td>\n",
       "      <td>5</td>\n",
       "      <td>False</td>\n",
       "      <td>1</td>\n",
       "      <td>32229.38</td>\n",
       "      <td>A</td>\n",
       "      <td>151315</td>\n",
       "      <td>42.31</td>\n",
       "      <td>2.572</td>\n",
       "      <td>NaN</td>\n",
       "      <td>NaN</td>\n",
       "      <td>NaN</td>\n",
       "      <td>NaN</td>\n",
       "      <td>NaN</td>\n",
       "      <td>211.096358</td>\n",
       "      <td>8.106</td>\n",
       "      <td>False</td>\n",
       "    </tr>\n",
       "  </tbody>\n",
       "</table>\n",
       "</div>"
      ],
      "text/plain": [
       "                      Date  Dept  IsHoliday_x  Store  Weekly_Sales Type    Size  Temperature  Fuel_Price  MarkDown1  MarkDown2  MarkDown3  MarkDown4  MarkDown5         CPI  Unemployment  IsHoliday_y\n",
       "Store_Id                                                                                                                                                                                              \n",
       "1_1_2010-02-05  2010-02-05     1        False      1      24924.50    A  151315        42.31       2.572        NaN        NaN        NaN        NaN        NaN  211.096358         8.106        False\n",
       "1_2_2010-02-05  2010-02-05     2        False      1      50605.27    A  151315        42.31       2.572        NaN        NaN        NaN        NaN        NaN  211.096358         8.106        False\n",
       "1_3_2010-02-05  2010-02-05     3        False      1      13740.12    A  151315        42.31       2.572        NaN        NaN        NaN        NaN        NaN  211.096358         8.106        False\n",
       "1_4_2010-02-05  2010-02-05     4        False      1      39954.04    A  151315        42.31       2.572        NaN        NaN        NaN        NaN        NaN  211.096358         8.106        False\n",
       "1_5_2010-02-05  2010-02-05     5        False      1      32229.38    A  151315        42.31       2.572        NaN        NaN        NaN        NaN        NaN  211.096358         8.106        False"
      ]
     },
     "execution_count": 12,
     "metadata": {},
     "output_type": "execute_result"
    }
   ],
   "source": [
    "# join features to data1 where store and date are multiple contidions and set store_id as index\n",
    "df = pd.merge(data1, features, left_on=['Store','Date'], right_on=['Store', 'Date']).set_index('Store_Id')\n",
    "\n",
    "#sanity check on df\n",
    "df.head()"
   ]
  },
  {
   "cell_type": "markdown",
   "metadata": {
    "ExecuteTime": {
     "end_time": "2020-03-17T08:04:18.485350Z",
     "start_time": "2020-03-17T08:04:18.382850Z"
    }
   },
   "source": [
    "## 4. Replace MarkDown1, MarkDown2, MarkDown3, MarkDown4, MarkDown5 Nan value to 0"
   ]
  },
  {
   "cell_type": "code",
   "execution_count": 13,
   "metadata": {
    "ExecuteTime": {
     "end_time": "2020-03-18T02:06:09.357200Z",
     "start_time": "2020-03-18T02:06:09.279200Z"
    }
   },
   "outputs": [
    {
     "data": {
      "text/html": [
       "<div>\n",
       "<style scoped>\n",
       "    .dataframe tbody tr th:only-of-type {\n",
       "        vertical-align: middle;\n",
       "    }\n",
       "\n",
       "    .dataframe tbody tr th {\n",
       "        vertical-align: top;\n",
       "    }\n",
       "\n",
       "    .dataframe thead th {\n",
       "        text-align: right;\n",
       "    }\n",
       "</style>\n",
       "<table border=\"1\" class=\"dataframe\">\n",
       "  <thead>\n",
       "    <tr style=\"text-align: right;\">\n",
       "      <th></th>\n",
       "      <th>Date</th>\n",
       "      <th>Dept</th>\n",
       "      <th>IsHoliday_x</th>\n",
       "      <th>Store</th>\n",
       "      <th>Weekly_Sales</th>\n",
       "      <th>Type</th>\n",
       "      <th>Size</th>\n",
       "      <th>Temperature</th>\n",
       "      <th>Fuel_Price</th>\n",
       "      <th>MarkDown1</th>\n",
       "      <th>MarkDown2</th>\n",
       "      <th>MarkDown3</th>\n",
       "      <th>MarkDown4</th>\n",
       "      <th>MarkDown5</th>\n",
       "      <th>CPI</th>\n",
       "      <th>Unemployment</th>\n",
       "      <th>IsHoliday_y</th>\n",
       "    </tr>\n",
       "    <tr>\n",
       "      <th>Store_Id</th>\n",
       "      <th></th>\n",
       "      <th></th>\n",
       "      <th></th>\n",
       "      <th></th>\n",
       "      <th></th>\n",
       "      <th></th>\n",
       "      <th></th>\n",
       "      <th></th>\n",
       "      <th></th>\n",
       "      <th></th>\n",
       "      <th></th>\n",
       "      <th></th>\n",
       "      <th></th>\n",
       "      <th></th>\n",
       "      <th></th>\n",
       "      <th></th>\n",
       "      <th></th>\n",
       "    </tr>\n",
       "  </thead>\n",
       "  <tbody>\n",
       "    <tr>\n",
       "      <th>1_1_2010-02-05</th>\n",
       "      <td>2010-02-05</td>\n",
       "      <td>1</td>\n",
       "      <td>False</td>\n",
       "      <td>1</td>\n",
       "      <td>24924.50</td>\n",
       "      <td>A</td>\n",
       "      <td>151315</td>\n",
       "      <td>42.31</td>\n",
       "      <td>2.572</td>\n",
       "      <td>0.0</td>\n",
       "      <td>0.0</td>\n",
       "      <td>0.0</td>\n",
       "      <td>0.0</td>\n",
       "      <td>0.0</td>\n",
       "      <td>211.096358</td>\n",
       "      <td>8.106</td>\n",
       "      <td>False</td>\n",
       "    </tr>\n",
       "    <tr>\n",
       "      <th>1_2_2010-02-05</th>\n",
       "      <td>2010-02-05</td>\n",
       "      <td>2</td>\n",
       "      <td>False</td>\n",
       "      <td>1</td>\n",
       "      <td>50605.27</td>\n",
       "      <td>A</td>\n",
       "      <td>151315</td>\n",
       "      <td>42.31</td>\n",
       "      <td>2.572</td>\n",
       "      <td>0.0</td>\n",
       "      <td>0.0</td>\n",
       "      <td>0.0</td>\n",
       "      <td>0.0</td>\n",
       "      <td>0.0</td>\n",
       "      <td>211.096358</td>\n",
       "      <td>8.106</td>\n",
       "      <td>False</td>\n",
       "    </tr>\n",
       "    <tr>\n",
       "      <th>1_3_2010-02-05</th>\n",
       "      <td>2010-02-05</td>\n",
       "      <td>3</td>\n",
       "      <td>False</td>\n",
       "      <td>1</td>\n",
       "      <td>13740.12</td>\n",
       "      <td>A</td>\n",
       "      <td>151315</td>\n",
       "      <td>42.31</td>\n",
       "      <td>2.572</td>\n",
       "      <td>0.0</td>\n",
       "      <td>0.0</td>\n",
       "      <td>0.0</td>\n",
       "      <td>0.0</td>\n",
       "      <td>0.0</td>\n",
       "      <td>211.096358</td>\n",
       "      <td>8.106</td>\n",
       "      <td>False</td>\n",
       "    </tr>\n",
       "    <tr>\n",
       "      <th>1_4_2010-02-05</th>\n",
       "      <td>2010-02-05</td>\n",
       "      <td>4</td>\n",
       "      <td>False</td>\n",
       "      <td>1</td>\n",
       "      <td>39954.04</td>\n",
       "      <td>A</td>\n",
       "      <td>151315</td>\n",
       "      <td>42.31</td>\n",
       "      <td>2.572</td>\n",
       "      <td>0.0</td>\n",
       "      <td>0.0</td>\n",
       "      <td>0.0</td>\n",
       "      <td>0.0</td>\n",
       "      <td>0.0</td>\n",
       "      <td>211.096358</td>\n",
       "      <td>8.106</td>\n",
       "      <td>False</td>\n",
       "    </tr>\n",
       "    <tr>\n",
       "      <th>1_5_2010-02-05</th>\n",
       "      <td>2010-02-05</td>\n",
       "      <td>5</td>\n",
       "      <td>False</td>\n",
       "      <td>1</td>\n",
       "      <td>32229.38</td>\n",
       "      <td>A</td>\n",
       "      <td>151315</td>\n",
       "      <td>42.31</td>\n",
       "      <td>2.572</td>\n",
       "      <td>0.0</td>\n",
       "      <td>0.0</td>\n",
       "      <td>0.0</td>\n",
       "      <td>0.0</td>\n",
       "      <td>0.0</td>\n",
       "      <td>211.096358</td>\n",
       "      <td>8.106</td>\n",
       "      <td>False</td>\n",
       "    </tr>\n",
       "  </tbody>\n",
       "</table>\n",
       "</div>"
      ],
      "text/plain": [
       "                      Date  Dept  IsHoliday_x  Store  Weekly_Sales Type    Size  Temperature  Fuel_Price  MarkDown1  MarkDown2  MarkDown3  MarkDown4  MarkDown5         CPI  Unemployment  IsHoliday_y\n",
       "Store_Id                                                                                                                                                                                              \n",
       "1_1_2010-02-05  2010-02-05     1        False      1      24924.50    A  151315        42.31       2.572        0.0        0.0        0.0        0.0        0.0  211.096358         8.106        False\n",
       "1_2_2010-02-05  2010-02-05     2        False      1      50605.27    A  151315        42.31       2.572        0.0        0.0        0.0        0.0        0.0  211.096358         8.106        False\n",
       "1_3_2010-02-05  2010-02-05     3        False      1      13740.12    A  151315        42.31       2.572        0.0        0.0        0.0        0.0        0.0  211.096358         8.106        False\n",
       "1_4_2010-02-05  2010-02-05     4        False      1      39954.04    A  151315        42.31       2.572        0.0        0.0        0.0        0.0        0.0  211.096358         8.106        False\n",
       "1_5_2010-02-05  2010-02-05     5        False      1      32229.38    A  151315        42.31       2.572        0.0        0.0        0.0        0.0        0.0  211.096358         8.106        False"
      ]
     },
     "execution_count": 13,
     "metadata": {},
     "output_type": "execute_result"
    }
   ],
   "source": [
    "#using for loops to replace madkdown columns Nan values to 0\n",
    "cols = ['MarkDown1', 'MarkDown2','MarkDown3','MarkDown4','MarkDown5']\n",
    "\n",
    "for i in cols:\n",
    "    df[i]= np.nan_to_num(df[i])\n",
    "\n",
    "df.head()"
   ]
  },
  {
   "cell_type": "markdown",
   "metadata": {},
   "source": [
    "## Change Date column to date formate "
   ]
  },
  {
   "cell_type": "code",
   "execution_count": 14,
   "metadata": {
    "ExecuteTime": {
     "end_time": "2020-03-18T02:06:09.970200Z",
     "start_time": "2020-03-18T02:06:09.751200Z"
    }
   },
   "outputs": [
    {
     "name": "stdout",
     "output_type": "stream",
     "text": [
      "<class 'pandas.core.frame.DataFrame'>\n",
      "Index: 536634 entries, 1_1_2010-02-05 to 45_98_2013-07-26\n",
      "Data columns (total 17 columns):\n",
      "Date            536634 non-null object\n",
      "Dept            536634 non-null int64\n",
      "IsHoliday_x     536634 non-null bool\n",
      "Store           536634 non-null int64\n",
      "Weekly_Sales    421570 non-null float64\n",
      "Type            536634 non-null object\n",
      "Size            536634 non-null int64\n",
      "Temperature     536634 non-null float64\n",
      "Fuel_Price      536634 non-null float64\n",
      "MarkDown1       536634 non-null float64\n",
      "MarkDown2       536634 non-null float64\n",
      "MarkDown3       536634 non-null float64\n",
      "MarkDown4       536634 non-null float64\n",
      "MarkDown5       536634 non-null float64\n",
      "CPI             498472 non-null float64\n",
      "Unemployment    498472 non-null float64\n",
      "IsHoliday_y     536634 non-null bool\n",
      "dtypes: bool(2), float64(10), int64(3), object(2)\n",
      "memory usage: 66.5+ MB\n"
     ]
    }
   ],
   "source": [
    "#Check Df summary info \n",
    "df.info()"
   ]
  },
  {
   "cell_type": "code",
   "execution_count": 15,
   "metadata": {
    "ExecuteTime": {
     "end_time": "2020-03-18T02:06:10.759200Z",
     "start_time": "2020-03-18T02:06:10.347200Z"
    }
   },
   "outputs": [],
   "source": [
    "#change Date from string to date formate\n",
    "df['Date'] = pd.to_datetime(df['Date'], format ='%Y-%m-%d')"
   ]
  },
  {
   "cell_type": "code",
   "execution_count": 16,
   "metadata": {
    "ExecuteTime": {
     "end_time": "2020-03-18T02:06:11.241200Z",
     "start_time": "2020-03-18T02:06:11.119200Z"
    }
   },
   "outputs": [
    {
     "data": {
      "text/plain": [
       "pandas._libs.tslibs.timestamps.Timestamp"
      ]
     },
     "execution_count": 16,
     "metadata": {},
     "output_type": "execute_result"
    }
   ],
   "source": [
    "#sanity check on date column\n",
    "type(df['Date'][0])"
   ]
  },
  {
   "cell_type": "markdown",
   "metadata": {},
   "source": [
    "## Replace missing values for CPI and unemployment"
   ]
  },
  {
   "cell_type": "code",
   "execution_count": 24,
   "metadata": {
    "ExecuteTime": {
     "end_time": "2020-03-18T03:02:35.266401Z",
     "start_time": "2020-03-18T03:02:35.219801Z"
    }
   },
   "outputs": [
    {
     "data": {
      "text/plain": [
       "585"
      ]
     },
     "metadata": {},
     "output_type": "display_data"
    },
    {
     "data": {
      "text/html": [
       "<div>\n",
       "<style scoped>\n",
       "    .dataframe tbody tr th:only-of-type {\n",
       "        vertical-align: middle;\n",
       "    }\n",
       "\n",
       "    .dataframe tbody tr th {\n",
       "        vertical-align: top;\n",
       "    }\n",
       "\n",
       "    .dataframe thead th {\n",
       "        text-align: right;\n",
       "    }\n",
       "</style>\n",
       "<table border=\"1\" class=\"dataframe\">\n",
       "  <thead>\n",
       "    <tr style=\"text-align: right;\">\n",
       "      <th></th>\n",
       "      <th>Store</th>\n",
       "      <th>Date</th>\n",
       "      <th>Temperature</th>\n",
       "      <th>Fuel_Price</th>\n",
       "      <th>MarkDown1</th>\n",
       "      <th>MarkDown2</th>\n",
       "      <th>MarkDown3</th>\n",
       "      <th>MarkDown4</th>\n",
       "      <th>MarkDown5</th>\n",
       "      <th>CPI</th>\n",
       "      <th>Unemployment</th>\n",
       "      <th>IsHoliday</th>\n",
       "    </tr>\n",
       "  </thead>\n",
       "  <tbody>\n",
       "    <tr>\n",
       "      <th>169</th>\n",
       "      <td>1</td>\n",
       "      <td>2013-05-03</td>\n",
       "      <td>66.66</td>\n",
       "      <td>3.386</td>\n",
       "      <td>2298.63</td>\n",
       "      <td>2.00</td>\n",
       "      <td>129.90</td>\n",
       "      <td>55.46</td>\n",
       "      <td>1301.04</td>\n",
       "      <td>NaN</td>\n",
       "      <td>NaN</td>\n",
       "      <td>False</td>\n",
       "    </tr>\n",
       "    <tr>\n",
       "      <th>170</th>\n",
       "      <td>1</td>\n",
       "      <td>2013-05-10</td>\n",
       "      <td>63.90</td>\n",
       "      <td>3.392</td>\n",
       "      <td>4624.61</td>\n",
       "      <td>83.88</td>\n",
       "      <td>42.38</td>\n",
       "      <td>1618.31</td>\n",
       "      <td>8144.90</td>\n",
       "      <td>NaN</td>\n",
       "      <td>NaN</td>\n",
       "      <td>False</td>\n",
       "    </tr>\n",
       "    <tr>\n",
       "      <th>171</th>\n",
       "      <td>1</td>\n",
       "      <td>2013-05-17</td>\n",
       "      <td>69.53</td>\n",
       "      <td>3.454</td>\n",
       "      <td>16170.50</td>\n",
       "      <td>92.00</td>\n",
       "      <td>8.32</td>\n",
       "      <td>4127.24</td>\n",
       "      <td>6206.97</td>\n",
       "      <td>NaN</td>\n",
       "      <td>NaN</td>\n",
       "      <td>False</td>\n",
       "    </tr>\n",
       "    <tr>\n",
       "      <th>172</th>\n",
       "      <td>1</td>\n",
       "      <td>2013-05-24</td>\n",
       "      <td>77.19</td>\n",
       "      <td>3.494</td>\n",
       "      <td>7959.89</td>\n",
       "      <td>178.00</td>\n",
       "      <td>1621.47</td>\n",
       "      <td>3152.57</td>\n",
       "      <td>2938.70</td>\n",
       "      <td>NaN</td>\n",
       "      <td>NaN</td>\n",
       "      <td>False</td>\n",
       "    </tr>\n",
       "    <tr>\n",
       "      <th>173</th>\n",
       "      <td>1</td>\n",
       "      <td>2013-05-31</td>\n",
       "      <td>78.02</td>\n",
       "      <td>3.466</td>\n",
       "      <td>2369.77</td>\n",
       "      <td>142.45</td>\n",
       "      <td>475.35</td>\n",
       "      <td>45.55</td>\n",
       "      <td>2056.84</td>\n",
       "      <td>NaN</td>\n",
       "      <td>NaN</td>\n",
       "      <td>False</td>\n",
       "    </tr>\n",
       "  </tbody>\n",
       "</table>\n",
       "</div>"
      ],
      "text/plain": [
       "     Store        Date  Temperature  Fuel_Price  MarkDown1  MarkDown2  MarkDown3  MarkDown4  MarkDown5  CPI  Unemployment  IsHoliday\n",
       "169      1  2013-05-03        66.66       3.386    2298.63       2.00     129.90      55.46    1301.04  NaN           NaN      False\n",
       "170      1  2013-05-10        63.90       3.392    4624.61      83.88      42.38    1618.31    8144.90  NaN           NaN      False\n",
       "171      1  2013-05-17        69.53       3.454   16170.50      92.00       8.32    4127.24    6206.97  NaN           NaN      False\n",
       "172      1  2013-05-24        77.19       3.494    7959.89     178.00    1621.47    3152.57    2938.70  NaN           NaN      False\n",
       "173      1  2013-05-31        78.02       3.466    2369.77     142.45     475.35      45.55    2056.84  NaN           NaN      False"
      ]
     },
     "metadata": {},
     "output_type": "display_data"
    }
   ],
   "source": [
    "#get NAN CPI in the features table\n",
    "display(features['CPI'].isnull().sum())\n",
    "\n",
    "#See first 5 rows with CPI missing. \n",
    "display(features[features['CPI'].isnull()].head())\n",
    "\n"
   ]
  },
  {
   "cell_type": "code",
   "execution_count": 26,
   "metadata": {
    "ExecuteTime": {
     "end_time": "2020-03-18T03:04:28.999002Z",
     "start_time": "2020-03-18T03:04:28.967802Z"
    }
   },
   "outputs": [
    {
     "data": {
      "text/plain": [
       "585"
      ]
     },
     "execution_count": 26,
     "metadata": {},
     "output_type": "execute_result"
    }
   ],
   "source": [
    "#get NAN Unemployment in the features table\n",
    "features['Unemployment'].isnull().sum()\n"
   ]
  },
  {
   "cell_type": "code",
   "execution_count": 31,
   "metadata": {
    "ExecuteTime": {
     "end_time": "2020-03-18T03:06:23.870802Z",
     "start_time": "2020-03-18T03:06:23.853802Z"
    }
   },
   "outputs": [
    {
     "data": {
      "text/plain": [
       "585"
      ]
     },
     "execution_count": 31,
     "metadata": {},
     "output_type": "execute_result"
    }
   ],
   "source": [
    "#check to see whether the missing CPI is also missing unemployment data \n",
    "features[features['CPI'].isnull()]['Unemployment'].isnull().sum()"
   ]
  },
  {
   "cell_type": "code",
   "execution_count": 22,
   "metadata": {
    "ExecuteTime": {
     "end_time": "2020-03-18T02:59:42.190201Z",
     "start_time": "2020-03-18T02:59:42.149601Z"
    }
   },
   "outputs": [
    {
     "data": {
      "text/plain": [
       "2013    38162\n",
       "Name: Date, dtype: int64"
      ]
     },
     "execution_count": 22,
     "metadata": {},
     "output_type": "execute_result"
    }
   ],
   "source": [
    "#check how many years of CPI and Unemployment are missing in df\n",
    "pd.DatetimeIndex(df[df['CPI'].isnull()]['Date']).year.value_counts()"
   ]
  },
  {
   "cell_type": "code",
   "execution_count": 19,
   "metadata": {
    "ExecuteTime": {
     "end_time": "2020-03-18T02:06:12.665200Z",
     "start_time": "2020-03-18T02:06:12.600200Z"
    }
   },
   "outputs": [
    {
     "data": {
      "text/plain": [
       "2012    154227\n",
       "2011    153453\n",
       "2010    140679\n",
       "2013     88275\n",
       "Name: Date, dtype: int64"
      ]
     },
     "execution_count": 19,
     "metadata": {},
     "output_type": "execute_result"
    }
   ],
   "source": [
    "#check on how many years in the data\n",
    "pd.DatetimeIndex(df['Date']).year.value_counts()"
   ]
  },
  {
   "cell_type": "markdown",
   "metadata": {},
   "source": [
    "Based on the aboved information, we can see the missing values for CPI and Unemployment rate are in 2013. We can check the average CPI and unemployment for each year and use the median number or average number based on the distribution of the avgerage store CPI to fill in the null value for 2013. Based on the null value testing of CPI and Unemployment, I can see that all of the rows that are missing CPI are also missing unemployment. "
   ]
  },
  {
   "cell_type": "code",
   "execution_count": 57,
   "metadata": {
    "ExecuteTime": {
     "end_time": "2020-03-17T09:20:07.760150Z",
     "start_time": "2020-03-17T09:20:07.039150Z"
    }
   },
   "outputs": [
    {
     "data": {
      "image/png": "[encoded data removed]",
      "text/plain": [
       "<Figure size 720x360 with 1 Axes>"
      ]
     },
     "metadata": {
      "needs_background": "light"
     },
     "output_type": "display_data"
    },
    {
     "data": {
      "image/png": "[encoded data removed]",
      "text/plain": [
       "<Figure size 720x360 with 1 Axes>"
      ]
     },
     "metadata": {
      "needs_background": "light"
     },
     "output_type": "display_data"
    }
   ],
   "source": [
    "#check on the distribution of CPI and unemployment rate\n",
    "\n",
    "plt.figure(figsize= (10,5))\n",
    "plt.hist(df['CPI'], edgecolor = 'black', bins = 100)\n",
    "plt.title('CPI distribution')\n",
    "plt.show()\n",
    "\n",
    "plt.figure(figsize=(10,5))\n",
    "plt.hist(df['Unemployment'], edgecolor ='black', bins = 100)\n",
    "plt.title('Unemployment distribution')\n",
    "plt.show()"
   ]
  },
  {
   "cell_type": "code",
   "execution_count": 63,
   "metadata": {
    "ExecuteTime": {
     "end_time": "2020-03-17T09:23:02.891150Z",
     "start_time": "2020-03-17T09:23:02.773150Z"
    }
   },
   "outputs": [
    {
     "data": {
      "text/html": [
       "<div>\n",
       "<style scoped>\n",
       "    .dataframe tbody tr th:only-of-type {\n",
       "        vertical-align: middle;\n",
       "    }\n",
       "\n",
       "    .dataframe tbody tr th {\n",
       "        vertical-align: top;\n",
       "    }\n",
       "\n",
       "    .dataframe thead th {\n",
       "        text-align: right;\n",
       "    }\n",
       "</style>\n",
       "<table border=\"1\" class=\"dataframe\">\n",
       "  <thead>\n",
       "    <tr style=\"text-align: right;\">\n",
       "      <th></th>\n",
       "      <th>CPI</th>\n",
       "      <th>Unemployment</th>\n",
       "    </tr>\n",
       "  </thead>\n",
       "  <tbody>\n",
       "    <tr>\n",
       "      <th>count</th>\n",
       "      <td>498472.000000</td>\n",
       "      <td>498472.000000</td>\n",
       "    </tr>\n",
       "    <tr>\n",
       "      <th>mean</th>\n",
       "      <td>172.090481</td>\n",
       "      <td>7.791888</td>\n",
       "    </tr>\n",
       "    <tr>\n",
       "      <th>std</th>\n",
       "      <td>39.542149</td>\n",
       "      <td>1.865076</td>\n",
       "    </tr>\n",
       "    <tr>\n",
       "      <th>min</th>\n",
       "      <td>126.064000</td>\n",
       "      <td>3.684000</td>\n",
       "    </tr>\n",
       "    <tr>\n",
       "      <th>25%</th>\n",
       "      <td>132.521867</td>\n",
       "      <td>6.623000</td>\n",
       "    </tr>\n",
       "    <tr>\n",
       "      <th>50%</th>\n",
       "      <td>182.442420</td>\n",
       "      <td>7.795000</td>\n",
       "    </tr>\n",
       "    <tr>\n",
       "      <th>75%</th>\n",
       "      <td>213.748126</td>\n",
       "      <td>8.549000</td>\n",
       "    </tr>\n",
       "    <tr>\n",
       "      <th>max</th>\n",
       "      <td>228.976456</td>\n",
       "      <td>14.313000</td>\n",
       "    </tr>\n",
       "  </tbody>\n",
       "</table>\n",
       "</div>"
      ],
      "text/plain": [
       "                 CPI   Unemployment\n",
       "count  498472.000000  498472.000000\n",
       "mean      172.090481       7.791888\n",
       "std        39.542149       1.865076\n",
       "min       126.064000       3.684000\n",
       "25%       132.521867       6.623000\n",
       "50%       182.442420       7.795000\n",
       "75%       213.748126       8.549000\n",
       "max       228.976456      14.313000"
      ]
     },
     "execution_count": 63,
     "metadata": {},
     "output_type": "execute_result"
    }
   ],
   "source": [
    "#get the stats info for CPI and Unemployment columns\n",
    "df[['CPI','Unemployment']].describe()"
   ]
  },
  {
   "cell_type": "code",
   "execution_count": 86,
   "metadata": {
    "ExecuteTime": {
     "end_time": "2020-03-18T06:30:04.114227Z",
     "start_time": "2020-03-18T06:30:04.066227Z"
    }
   },
   "outputs": [
    {
     "data": {
      "text/html": [
       "<div>\n",
       "<style scoped>\n",
       "    .dataframe tbody tr th:only-of-type {\n",
       "        vertical-align: middle;\n",
       "    }\n",
       "\n",
       "    .dataframe tbody tr th {\n",
       "        vertical-align: top;\n",
       "    }\n",
       "\n",
       "    .dataframe thead th {\n",
       "        text-align: right;\n",
       "    }\n",
       "</style>\n",
       "<table border=\"1\" class=\"dataframe\">\n",
       "  <thead>\n",
       "    <tr style=\"text-align: right;\">\n",
       "      <th></th>\n",
       "      <th>mean</th>\n",
       "      <th>median</th>\n",
       "      <th>difference</th>\n",
       "    </tr>\n",
       "    <tr>\n",
       "      <th>Store</th>\n",
       "      <th></th>\n",
       "      <th></th>\n",
       "      <th></th>\n",
       "    </tr>\n",
       "  </thead>\n",
       "  <tbody>\n",
       "    <tr>\n",
       "      <th>1</th>\n",
       "      <td>217.271077</td>\n",
       "      <td>216.041053</td>\n",
       "      <td>1.230025</td>\n",
       "    </tr>\n",
       "    <tr>\n",
       "      <th>2</th>\n",
       "      <td>216.928356</td>\n",
       "      <td>215.694438</td>\n",
       "      <td>1.233918</td>\n",
       "    </tr>\n",
       "    <tr>\n",
       "      <th>3</th>\n",
       "      <td>220.704280</td>\n",
       "      <td>219.741491</td>\n",
       "      <td>0.962789</td>\n",
       "    </tr>\n",
       "    <tr>\n",
       "      <th>4</th>\n",
       "      <td>129.197705</td>\n",
       "      <td>129.430600</td>\n",
       "      <td>-0.232895</td>\n",
       "    </tr>\n",
       "    <tr>\n",
       "      <th>5</th>\n",
       "      <td>217.860702</td>\n",
       "      <td>216.603308</td>\n",
       "      <td>1.257393</td>\n",
       "    </tr>\n",
       "    <tr>\n",
       "      <th>6</th>\n",
       "      <td>218.853379</td>\n",
       "      <td>217.579751</td>\n",
       "      <td>1.273629</td>\n",
       "    </tr>\n",
       "    <tr>\n",
       "      <th>7</th>\n",
       "      <td>194.734315</td>\n",
       "      <td>194.809971</td>\n",
       "      <td>-0.075656</td>\n",
       "    </tr>\n",
       "    <tr>\n",
       "      <th>8</th>\n",
       "      <td>220.737076</td>\n",
       "      <td>219.444244</td>\n",
       "      <td>1.292831</td>\n",
       "    </tr>\n",
       "    <tr>\n",
       "      <th>9</th>\n",
       "      <td>220.993589</td>\n",
       "      <td>219.974642</td>\n",
       "      <td>1.018947</td>\n",
       "    </tr>\n",
       "    <tr>\n",
       "      <th>10</th>\n",
       "      <td>129.180845</td>\n",
       "      <td>129.368613</td>\n",
       "      <td>-0.187768</td>\n",
       "    </tr>\n",
       "    <tr>\n",
       "      <th>11</th>\n",
       "      <td>220.725891</td>\n",
       "      <td>219.741491</td>\n",
       "      <td>0.984399</td>\n",
       "    </tr>\n",
       "    <tr>\n",
       "      <th>12</th>\n",
       "      <td>129.200790</td>\n",
       "      <td>129.430600</td>\n",
       "      <td>-0.229810</td>\n",
       "    </tr>\n",
       "    <tr>\n",
       "      <th>13</th>\n",
       "      <td>129.189668</td>\n",
       "      <td>129.430600</td>\n",
       "      <td>-0.240932</td>\n",
       "    </tr>\n",
       "    <tr>\n",
       "      <th>14</th>\n",
       "      <td>187.294344</td>\n",
       "      <td>186.802400</td>\n",
       "      <td>0.491944</td>\n",
       "    </tr>\n",
       "    <tr>\n",
       "      <th>15</th>\n",
       "      <td>135.654695</td>\n",
       "      <td>136.314500</td>\n",
       "      <td>-0.659805</td>\n",
       "    </tr>\n",
       "    <tr>\n",
       "      <th>16</th>\n",
       "      <td>194.812214</td>\n",
       "      <td>194.877972</td>\n",
       "      <td>-0.065758</td>\n",
       "    </tr>\n",
       "    <tr>\n",
       "      <th>17</th>\n",
       "      <td>129.211626</td>\n",
       "      <td>129.518333</td>\n",
       "      <td>-0.306707</td>\n",
       "    </tr>\n",
       "    <tr>\n",
       "      <th>18</th>\n",
       "      <td>135.669730</td>\n",
       "      <td>136.367000</td>\n",
       "      <td>-0.697270</td>\n",
       "    </tr>\n",
       "    <tr>\n",
       "      <th>19</th>\n",
       "      <td>135.651167</td>\n",
       "      <td>136.314500</td>\n",
       "      <td>-0.663333</td>\n",
       "    </tr>\n",
       "    <tr>\n",
       "      <th>20</th>\n",
       "      <td>210.250062</td>\n",
       "      <td>209.189389</td>\n",
       "      <td>1.060673</td>\n",
       "    </tr>\n",
       "    <tr>\n",
       "      <th>21</th>\n",
       "      <td>216.943684</td>\n",
       "      <td>216.028236</td>\n",
       "      <td>0.915448</td>\n",
       "    </tr>\n",
       "    <tr>\n",
       "      <th>22</th>\n",
       "      <td>139.593262</td>\n",
       "      <td>140.273500</td>\n",
       "      <td>-0.680238</td>\n",
       "    </tr>\n",
       "    <tr>\n",
       "      <th>23</th>\n",
       "      <td>135.652573</td>\n",
       "      <td>136.314500</td>\n",
       "      <td>-0.661927</td>\n",
       "    </tr>\n",
       "    <tr>\n",
       "      <th>24</th>\n",
       "      <td>135.655780</td>\n",
       "      <td>136.314500</td>\n",
       "      <td>-0.658720</td>\n",
       "    </tr>\n",
       "    <tr>\n",
       "      <th>25</th>\n",
       "      <td>210.254567</td>\n",
       "      <td>209.189389</td>\n",
       "      <td>1.065178</td>\n",
       "    </tr>\n",
       "    <tr>\n",
       "      <th>26</th>\n",
       "      <td>135.670502</td>\n",
       "      <td>136.367000</td>\n",
       "      <td>-0.696498</td>\n",
       "    </tr>\n",
       "    <tr>\n",
       "      <th>27</th>\n",
       "      <td>139.599911</td>\n",
       "      <td>140.273500</td>\n",
       "      <td>-0.673589</td>\n",
       "    </tr>\n",
       "    <tr>\n",
       "      <th>28</th>\n",
       "      <td>129.197806</td>\n",
       "      <td>129.430600</td>\n",
       "      <td>-0.232794</td>\n",
       "    </tr>\n",
       "    <tr>\n",
       "      <th>29</th>\n",
       "      <td>135.644095</td>\n",
       "      <td>136.314500</td>\n",
       "      <td>-0.670405</td>\n",
       "    </tr>\n",
       "    <tr>\n",
       "      <th>30</th>\n",
       "      <td>216.929876</td>\n",
       "      <td>215.694438</td>\n",
       "      <td>1.235438</td>\n",
       "    </tr>\n",
       "    <tr>\n",
       "      <th>31</th>\n",
       "      <td>216.908532</td>\n",
       "      <td>215.694438</td>\n",
       "      <td>1.214094</td>\n",
       "    </tr>\n",
       "    <tr>\n",
       "      <th>32</th>\n",
       "      <td>194.702999</td>\n",
       "      <td>194.741971</td>\n",
       "      <td>-0.038972</td>\n",
       "    </tr>\n",
       "    <tr>\n",
       "      <th>33</th>\n",
       "      <td>129.242760</td>\n",
       "      <td>129.606067</td>\n",
       "      <td>-0.363307</td>\n",
       "    </tr>\n",
       "    <tr>\n",
       "      <th>34</th>\n",
       "      <td>129.180105</td>\n",
       "      <td>129.368613</td>\n",
       "      <td>-0.188508</td>\n",
       "    </tr>\n",
       "    <tr>\n",
       "      <th>35</th>\n",
       "      <td>139.598075</td>\n",
       "      <td>140.273500</td>\n",
       "      <td>-0.675425</td>\n",
       "    </tr>\n",
       "    <tr>\n",
       "      <th>36</th>\n",
       "      <td>216.063583</td>\n",
       "      <td>215.123319</td>\n",
       "      <td>0.940264</td>\n",
       "    </tr>\n",
       "    <tr>\n",
       "      <th>37</th>\n",
       "      <td>216.158894</td>\n",
       "      <td>215.453226</td>\n",
       "      <td>0.705668</td>\n",
       "    </tr>\n",
       "    <tr>\n",
       "      <th>38</th>\n",
       "      <td>129.242222</td>\n",
       "      <td>129.606067</td>\n",
       "      <td>-0.363845</td>\n",
       "    </tr>\n",
       "    <tr>\n",
       "      <th>39</th>\n",
       "      <td>215.990169</td>\n",
       "      <td>214.793411</td>\n",
       "      <td>1.196758</td>\n",
       "    </tr>\n",
       "    <tr>\n",
       "      <th>40</th>\n",
       "      <td>135.663680</td>\n",
       "      <td>136.314500</td>\n",
       "      <td>-0.650820</td>\n",
       "    </tr>\n",
       "    <tr>\n",
       "      <th>41</th>\n",
       "      <td>194.750768</td>\n",
       "      <td>194.809971</td>\n",
       "      <td>-0.059203</td>\n",
       "    </tr>\n",
       "    <tr>\n",
       "      <th>42</th>\n",
       "      <td>129.272487</td>\n",
       "      <td>129.693800</td>\n",
       "      <td>-0.421313</td>\n",
       "    </tr>\n",
       "    <tr>\n",
       "      <th>43</th>\n",
       "      <td>208.932475</td>\n",
       "      <td>207.852714</td>\n",
       "      <td>1.079760</td>\n",
       "    </tr>\n",
       "    <tr>\n",
       "      <th>44</th>\n",
       "      <td>129.259950</td>\n",
       "      <td>129.606067</td>\n",
       "      <td>-0.346117</td>\n",
       "    </tr>\n",
       "    <tr>\n",
       "      <th>45</th>\n",
       "      <td>187.312942</td>\n",
       "      <td>186.802400</td>\n",
       "      <td>0.510542</td>\n",
       "    </tr>\n",
       "  </tbody>\n",
       "</table>\n",
       "</div>"
      ],
      "text/plain": [
       "             mean      median  difference\n",
       "Store                                    \n",
       "1      217.271077  216.041053    1.230025\n",
       "2      216.928356  215.694438    1.233918\n",
       "3      220.704280  219.741491    0.962789\n",
       "4      129.197705  129.430600   -0.232895\n",
       "5      217.860702  216.603308    1.257393\n",
       "6      218.853379  217.579751    1.273629\n",
       "7      194.734315  194.809971   -0.075656\n",
       "8      220.737076  219.444244    1.292831\n",
       "9      220.993589  219.974642    1.018947\n",
       "10     129.180845  129.368613   -0.187768\n",
       "11     220.725891  219.741491    0.984399\n",
       "12     129.200790  129.430600   -0.229810\n",
       "13     129.189668  129.430600   -0.240932\n",
       "14     187.294344  186.802400    0.491944\n",
       "15     135.654695  136.314500   -0.659805\n",
       "16     194.812214  194.877972   -0.065758\n",
       "17     129.211626  129.518333   -0.306707\n",
       "18     135.669730  136.367000   -0.697270\n",
       "19     135.651167  136.314500   -0.663333\n",
       "20     210.250062  209.189389    1.060673\n",
       "21     216.943684  216.028236    0.915448\n",
       "22     139.593262  140.273500   -0.680238\n",
       "23     135.652573  136.314500   -0.661927\n",
       "24     135.655780  136.314500   -0.658720\n",
       "25     210.254567  209.189389    1.065178\n",
       "26     135.670502  136.367000   -0.696498\n",
       "27     139.599911  140.273500   -0.673589\n",
       "28     129.197806  129.430600   -0.232794\n",
       "29     135.644095  136.314500   -0.670405\n",
       "30     216.929876  215.694438    1.235438\n",
       "31     216.908532  215.694438    1.214094\n",
       "32     194.702999  194.741971   -0.038972\n",
       "33     129.242760  129.606067   -0.363307\n",
       "34     129.180105  129.368613   -0.188508\n",
       "35     139.598075  140.273500   -0.675425\n",
       "36     216.063583  215.123319    0.940264\n",
       "37     216.158894  215.453226    0.705668\n",
       "38     129.242222  129.606067   -0.363845\n",
       "39     215.990169  214.793411    1.196758\n",
       "40     135.663680  136.314500   -0.650820\n",
       "41     194.750768  194.809971   -0.059203\n",
       "42     129.272487  129.693800   -0.421313\n",
       "43     208.932475  207.852714    1.079760\n",
       "44     129.259950  129.606067   -0.346117\n",
       "45     187.312942  186.802400    0.510542"
      ]
     },
     "execution_count": 86,
     "metadata": {},
     "output_type": "execute_result"
    }
   ],
   "source": [
    "#get the mean, medium of the CPI for each store in 2010,2011,2012 \n",
    "cpi_summary =df.groupby(['Store']).agg({'CPI':['mean','median']})\n",
    "\n",
    "#unlist the column names\n",
    "cpi_summary.columns = ['mean', 'median']\n",
    "\n",
    "#add a column for mean, median difference\n",
    "cpi_summary['difference'] = cpi_summary['mean'] - cpi_summary['median']\n",
    "\n",
    "#view the result\n",
    "cpi_summary"
   ]
  },
  {
   "cell_type": "markdown",
   "metadata": {
    "ExecuteTime": {
     "end_time": "2020-03-18T04:41:22.798621Z",
     "start_time": "2020-03-18T04:41:22.765621Z"
    }
   },
   "source": [
    "Based on the cpi summary table we can see that the average cpi for each store across three years is very similar to the mean of each store across three years. Therefore, I will simiply use the mean of each store across three years to fill the null values for each store in the df. "
   ]
  },
  {
   "cell_type": "code",
   "execution_count": 132,
   "metadata": {
    "ExecuteTime": {
     "end_time": "2020-03-18T08:59:50.383031Z",
     "start_time": "2020-03-18T08:59:50.331031Z"
    }
   },
   "outputs": [
    {
     "data": {
      "text/plain": [
       "0"
      ]
     },
     "execution_count": 132,
     "metadata": {},
     "output_type": "execute_result"
    }
   ],
   "source": [
    "# fill CPI na with mean of each store across three years\n",
    "\n",
    "nulls = df.loc[df['CPI'].isnull(), 'Store']\n",
    "\n",
    "df.loc[df['CPI'].isnull(),'CPI']= cpi_summary['mean'].loc[nulls].values\n",
    "\n",
    "#sanity check \n",
    "df['CPI'].isnull().sum()"
   ]
  },
  {
   "cell_type": "code",
   "execution_count": 134,
   "metadata": {
    "ExecuteTime": {
     "end_time": "2020-03-18T09:39:05.974231Z",
     "start_time": "2020-03-18T09:39:05.926231Z"
    }
   },
   "outputs": [
    {
     "data": {
      "text/html": [
       "<div>\n",
       "<style scoped>\n",
       "    .dataframe tbody tr th:only-of-type {\n",
       "        vertical-align: middle;\n",
       "    }\n",
       "\n",
       "    .dataframe tbody tr th {\n",
       "        vertical-align: top;\n",
       "    }\n",
       "\n",
       "    .dataframe thead th {\n",
       "        text-align: right;\n",
       "    }\n",
       "</style>\n",
       "<table border=\"1\" class=\"dataframe\">\n",
       "  <thead>\n",
       "    <tr style=\"text-align: right;\">\n",
       "      <th></th>\n",
       "      <th>mean</th>\n",
       "      <th>median</th>\n",
       "      <th>difference</th>\n",
       "    </tr>\n",
       "    <tr>\n",
       "      <th>Store</th>\n",
       "      <th></th>\n",
       "      <th></th>\n",
       "      <th></th>\n",
       "    </tr>\n",
       "  </thead>\n",
       "  <tbody>\n",
       "    <tr>\n",
       "      <th>1</th>\n",
       "      <td>7.441328</td>\n",
       "      <td>7.742</td>\n",
       "      <td>-0.300672</td>\n",
       "    </tr>\n",
       "    <tr>\n",
       "      <th>2</th>\n",
       "      <td>7.402505</td>\n",
       "      <td>7.852</td>\n",
       "      <td>-0.449495</td>\n",
       "    </tr>\n",
       "    <tr>\n",
       "      <th>3</th>\n",
       "      <td>7.004116</td>\n",
       "      <td>7.343</td>\n",
       "      <td>-0.338884</td>\n",
       "    </tr>\n",
       "    <tr>\n",
       "      <th>4</th>\n",
       "      <td>5.648079</td>\n",
       "      <td>5.644</td>\n",
       "      <td>0.004079</td>\n",
       "    </tr>\n",
       "    <tr>\n",
       "      <th>5</th>\n",
       "      <td>6.163330</td>\n",
       "      <td>6.465</td>\n",
       "      <td>-0.301670</td>\n",
       "    </tr>\n",
       "    <tr>\n",
       "      <th>6</th>\n",
       "      <td>6.411231</td>\n",
       "      <td>6.855</td>\n",
       "      <td>-0.443769</td>\n",
       "    </tr>\n",
       "    <tr>\n",
       "      <th>7</th>\n",
       "      <td>8.376465</td>\n",
       "      <td>8.595</td>\n",
       "      <td>-0.218535</td>\n",
       "    </tr>\n",
       "    <tr>\n",
       "      <th>8</th>\n",
       "      <td>5.947410</td>\n",
       "      <td>6.262</td>\n",
       "      <td>-0.314590</td>\n",
       "    </tr>\n",
       "    <tr>\n",
       "      <th>9</th>\n",
       "      <td>5.923359</td>\n",
       "      <td>6.380</td>\n",
       "      <td>-0.456641</td>\n",
       "    </tr>\n",
       "    <tr>\n",
       "      <th>10</th>\n",
       "      <td>8.145469</td>\n",
       "      <td>8.257</td>\n",
       "      <td>-0.111531</td>\n",
       "    </tr>\n",
       "    <tr>\n",
       "      <th>11</th>\n",
       "      <td>7.002862</td>\n",
       "      <td>7.343</td>\n",
       "      <td>-0.340138</td>\n",
       "    </tr>\n",
       "    <tr>\n",
       "      <th>12</th>\n",
       "      <td>12.637164</td>\n",
       "      <td>13.503</td>\n",
       "      <td>-0.865836</td>\n",
       "    </tr>\n",
       "    <tr>\n",
       "      <th>13</th>\n",
       "      <td>6.765869</td>\n",
       "      <td>6.877</td>\n",
       "      <td>-0.111131</td>\n",
       "    </tr>\n",
       "    <tr>\n",
       "      <th>14</th>\n",
       "      <td>8.640925</td>\n",
       "      <td>8.625</td>\n",
       "      <td>0.015925</td>\n",
       "    </tr>\n",
       "    <tr>\n",
       "      <th>15</th>\n",
       "      <td>7.994364</td>\n",
       "      <td>8.036</td>\n",
       "      <td>-0.041636</td>\n",
       "    </tr>\n",
       "    <tr>\n",
       "      <th>16</th>\n",
       "      <td>6.325767</td>\n",
       "      <td>6.338</td>\n",
       "      <td>-0.012233</td>\n",
       "    </tr>\n",
       "    <tr>\n",
       "      <th>17</th>\n",
       "      <td>6.363668</td>\n",
       "      <td>6.617</td>\n",
       "      <td>-0.253332</td>\n",
       "    </tr>\n",
       "    <tr>\n",
       "      <th>18</th>\n",
       "      <td>8.708700</td>\n",
       "      <td>8.890</td>\n",
       "      <td>-0.181300</td>\n",
       "    </tr>\n",
       "    <tr>\n",
       "      <th>19</th>\n",
       "      <td>7.994831</td>\n",
       "      <td>8.036</td>\n",
       "      <td>-0.041169</td>\n",
       "    </tr>\n",
       "    <tr>\n",
       "      <th>20</th>\n",
       "      <td>7.367602</td>\n",
       "      <td>7.293</td>\n",
       "      <td>0.074602</td>\n",
       "    </tr>\n",
       "    <tr>\n",
       "      <th>21</th>\n",
       "      <td>7.399818</td>\n",
       "      <td>7.852</td>\n",
       "      <td>-0.452182</td>\n",
       "    </tr>\n",
       "    <tr>\n",
       "      <th>22</th>\n",
       "      <td>7.962720</td>\n",
       "      <td>8.023</td>\n",
       "      <td>-0.060280</td>\n",
       "    </tr>\n",
       "    <tr>\n",
       "      <th>23</th>\n",
       "      <td>4.668531</td>\n",
       "      <td>4.584</td>\n",
       "      <td>0.084531</td>\n",
       "    </tr>\n",
       "    <tr>\n",
       "      <th>24</th>\n",
       "      <td>8.481659</td>\n",
       "      <td>8.358</td>\n",
       "      <td>0.123659</td>\n",
       "    </tr>\n",
       "    <tr>\n",
       "      <th>25</th>\n",
       "      <td>7.367569</td>\n",
       "      <td>7.293</td>\n",
       "      <td>0.074569</td>\n",
       "    </tr>\n",
       "    <tr>\n",
       "      <th>26</th>\n",
       "      <td>7.746756</td>\n",
       "      <td>7.767</td>\n",
       "      <td>-0.020244</td>\n",
       "    </tr>\n",
       "    <tr>\n",
       "      <th>27</th>\n",
       "      <td>7.989870</td>\n",
       "      <td>8.000</td>\n",
       "      <td>-0.010130</td>\n",
       "    </tr>\n",
       "    <tr>\n",
       "      <th>28</th>\n",
       "      <td>12.638506</td>\n",
       "      <td>13.503</td>\n",
       "      <td>-0.864494</td>\n",
       "    </tr>\n",
       "    <tr>\n",
       "      <th>29</th>\n",
       "      <td>9.683382</td>\n",
       "      <td>9.863</td>\n",
       "      <td>-0.179618</td>\n",
       "    </tr>\n",
       "    <tr>\n",
       "      <th>30</th>\n",
       "      <td>7.405242</td>\n",
       "      <td>7.852</td>\n",
       "      <td>-0.446758</td>\n",
       "    </tr>\n",
       "    <tr>\n",
       "      <th>31</th>\n",
       "      <td>7.405657</td>\n",
       "      <td>7.852</td>\n",
       "      <td>-0.446343</td>\n",
       "    </tr>\n",
       "    <tr>\n",
       "      <th>32</th>\n",
       "      <td>8.381179</td>\n",
       "      <td>8.595</td>\n",
       "      <td>-0.213821</td>\n",
       "    </tr>\n",
       "    <tr>\n",
       "      <th>33</th>\n",
       "      <td>8.244419</td>\n",
       "      <td>8.442</td>\n",
       "      <td>-0.197581</td>\n",
       "    </tr>\n",
       "    <tr>\n",
       "      <th>34</th>\n",
       "      <td>9.775733</td>\n",
       "      <td>9.653</td>\n",
       "      <td>0.122733</td>\n",
       "    </tr>\n",
       "    <tr>\n",
       "      <th>35</th>\n",
       "      <td>8.757510</td>\n",
       "      <td>8.745</td>\n",
       "      <td>0.012510</td>\n",
       "    </tr>\n",
       "    <tr>\n",
       "      <th>36</th>\n",
       "      <td>7.607482</td>\n",
       "      <td>8.177</td>\n",
       "      <td>-0.569518</td>\n",
       "    </tr>\n",
       "    <tr>\n",
       "      <th>37</th>\n",
       "      <td>7.591639</td>\n",
       "      <td>8.177</td>\n",
       "      <td>-0.585361</td>\n",
       "    </tr>\n",
       "    <tr>\n",
       "      <th>38</th>\n",
       "      <td>12.607257</td>\n",
       "      <td>13.503</td>\n",
       "      <td>-0.895743</td>\n",
       "    </tr>\n",
       "    <tr>\n",
       "      <th>39</th>\n",
       "      <td>7.618023</td>\n",
       "      <td>8.177</td>\n",
       "      <td>-0.558977</td>\n",
       "    </tr>\n",
       "    <tr>\n",
       "      <th>40</th>\n",
       "      <td>4.666142</td>\n",
       "      <td>4.584</td>\n",
       "      <td>0.082142</td>\n",
       "    </tr>\n",
       "    <tr>\n",
       "      <th>41</th>\n",
       "      <td>6.804314</td>\n",
       "      <td>6.901</td>\n",
       "      <td>-0.096686</td>\n",
       "    </tr>\n",
       "    <tr>\n",
       "      <th>42</th>\n",
       "      <td>8.104787</td>\n",
       "      <td>7.874</td>\n",
       "      <td>0.230787</td>\n",
       "    </tr>\n",
       "    <tr>\n",
       "      <th>43</th>\n",
       "      <td>9.771708</td>\n",
       "      <td>9.653</td>\n",
       "      <td>0.118708</td>\n",
       "    </tr>\n",
       "    <tr>\n",
       "      <th>44</th>\n",
       "      <td>6.442947</td>\n",
       "      <td>6.560</td>\n",
       "      <td>-0.117053</td>\n",
       "    </tr>\n",
       "    <tr>\n",
       "      <th>45</th>\n",
       "      <td>8.640121</td>\n",
       "      <td>8.625</td>\n",
       "      <td>0.015121</td>\n",
       "    </tr>\n",
       "  </tbody>\n",
       "</table>\n",
       "</div>"
      ],
      "text/plain": [
       "            mean  median  difference\n",
       "Store                               \n",
       "1       7.441328   7.742   -0.300672\n",
       "2       7.402505   7.852   -0.449495\n",
       "3       7.004116   7.343   -0.338884\n",
       "4       5.648079   5.644    0.004079\n",
       "5       6.163330   6.465   -0.301670\n",
       "6       6.411231   6.855   -0.443769\n",
       "7       8.376465   8.595   -0.218535\n",
       "8       5.947410   6.262   -0.314590\n",
       "9       5.923359   6.380   -0.456641\n",
       "10      8.145469   8.257   -0.111531\n",
       "11      7.002862   7.343   -0.340138\n",
       "12     12.637164  13.503   -0.865836\n",
       "13      6.765869   6.877   -0.111131\n",
       "14      8.640925   8.625    0.015925\n",
       "15      7.994364   8.036   -0.041636\n",
       "16      6.325767   6.338   -0.012233\n",
       "17      6.363668   6.617   -0.253332\n",
       "18      8.708700   8.890   -0.181300\n",
       "19      7.994831   8.036   -0.041169\n",
       "20      7.367602   7.293    0.074602\n",
       "21      7.399818   7.852   -0.452182\n",
       "22      7.962720   8.023   -0.060280\n",
       "23      4.668531   4.584    0.084531\n",
       "24      8.481659   8.358    0.123659\n",
       "25      7.367569   7.293    0.074569\n",
       "26      7.746756   7.767   -0.020244\n",
       "27      7.989870   8.000   -0.010130\n",
       "28     12.638506  13.503   -0.864494\n",
       "29      9.683382   9.863   -0.179618\n",
       "30      7.405242   7.852   -0.446758\n",
       "31      7.405657   7.852   -0.446343\n",
       "32      8.381179   8.595   -0.213821\n",
       "33      8.244419   8.442   -0.197581\n",
       "34      9.775733   9.653    0.122733\n",
       "35      8.757510   8.745    0.012510\n",
       "36      7.607482   8.177   -0.569518\n",
       "37      7.591639   8.177   -0.585361\n",
       "38     12.607257  13.503   -0.895743\n",
       "39      7.618023   8.177   -0.558977\n",
       "40      4.666142   4.584    0.082142\n",
       "41      6.804314   6.901   -0.096686\n",
       "42      8.104787   7.874    0.230787\n",
       "43      9.771708   9.653    0.118708\n",
       "44      6.442947   6.560   -0.117053\n",
       "45      8.640121   8.625    0.015121"
      ]
     },
     "execution_count": 134,
     "metadata": {},
     "output_type": "execute_result"
    }
   ],
   "source": [
    "#get the mean, medium of the Unemployment for each store from 2010-2012 \n",
    "unemployment_summary = df.groupby(['Store']).agg({'Unemployment':['mean','median']})\n",
    "\n",
    "#unlist the column names\n",
    "unemployment_summary.columns = ['mean', 'median']\n",
    "\n",
    "#add a column for mean, median difference\n",
    "unemployment_summary['difference'] = unemployment_summary['mean'] - unemployment_summary['median']\n",
    "\n",
    "#view the result\n",
    "unemployment_summary"
   ]
  },
  {
   "cell_type": "markdown",
   "metadata": {},
   "source": [
    "Similar to CPI, the difference between mean and median for the 3 year unemployment is not significant. Therefore, I will use similar method, using mean of the three years for each store to fill the unemployment nan values. "
   ]
  },
  {
   "cell_type": "code",
   "execution_count": 135,
   "metadata": {
    "ExecuteTime": {
     "end_time": "2020-03-18T09:42:54.309231Z",
     "start_time": "2020-03-18T09:42:54.263231Z"
    }
   },
   "outputs": [
    {
     "data": {
      "text/plain": [
       "0"
      ]
     },
     "execution_count": 135,
     "metadata": {},
     "output_type": "execute_result"
    }
   ],
   "source": [
    "# fill unemployment na with mean of each store across three years\n",
    "\n",
    "nulls_u = df.loc[df['Unemployment'].isnull(), 'Store']\n",
    "\n",
    "df.loc[df['Unemployment'].isnull(),'Unemployment']= unemployment_summary['mean'].loc[nulls_u].values\n",
    "\n",
    "#sanity check \n",
    "df['Unemployment'].isnull().sum()"
   ]
  },
  {
   "cell_type": "code",
   "execution_count": 145,
   "metadata": {
    "ExecuteTime": {
     "end_time": "2020-03-18T10:05:05.011032Z",
     "start_time": "2020-03-18T10:05:04.803032Z"
    }
   },
   "outputs": [
    {
     "name": "stdout",
     "output_type": "stream",
     "text": [
      "<class 'pandas.core.frame.DataFrame'>\n",
      "Index: 536634 entries, 1_1_2010-02-05 to 45_98_2013-07-26\n",
      "Data columns (total 16 columns):\n",
      "Date            536634 non-null datetime64[ns]\n",
      "Dept            536634 non-null int64\n",
      "IsHoliday_x     536634 non-null bool\n",
      "Store           536634 non-null int64\n",
      "Weekly_Sales    421570 non-null float64\n",
      "Type            536634 non-null object\n",
      "Size            536634 non-null int64\n",
      "Temperature     536634 non-null float64\n",
      "Fuel_Price      536634 non-null float64\n",
      "MarkDown1       536634 non-null float64\n",
      "MarkDown2       536634 non-null float64\n",
      "MarkDown3       536634 non-null float64\n",
      "MarkDown4       536634 non-null float64\n",
      "MarkDown5       536634 non-null float64\n",
      "CPI             536634 non-null float64\n",
      "Unemployment    536634 non-null float64\n",
      "dtypes: bool(1), datetime64[ns](1), float64(10), int64(3), object(1)\n",
      "memory usage: 86.0+ MB\n"
     ]
    }
   ],
   "source": [
    "df.info()"
   ]
  },
  {
   "cell_type": "code",
   "execution_count": 140,
   "metadata": {
    "ExecuteTime": {
     "end_time": "2020-03-18T09:48:14.719631Z",
     "start_time": "2020-03-18T09:48:14.652631Z"
    }
   },
   "outputs": [],
   "source": [
    "# drop extra column IsHoliday_y\n",
    "df = df.drop(['IsHoliday_y'], axis=1)"
   ]
  },
  {
   "cell_type": "markdown",
   "metadata": {},
   "source": [
    "# Data Exploration"
   ]
  },
  {
   "cell_type": "code",
   "execution_count": 143,
   "metadata": {
    "ExecuteTime": {
     "end_time": "2020-03-18T09:49:59.034831Z",
     "start_time": "2020-03-18T09:49:59.010831Z"
    }
   },
   "outputs": [
    {
     "data": {
      "text/plain": [
       "(536634, 16)"
      ]
     },
     "execution_count": 143,
     "metadata": {},
     "output_type": "execute_result"
    }
   ],
   "source": [
    "df.shape"
   ]
  },
  {
   "cell_type": "code",
   "execution_count": 169,
   "metadata": {
    "ExecuteTime": {
     "end_time": "2020-03-18T10:22:12.597632Z",
     "start_time": "2020-03-18T10:22:10.050632Z"
    }
   },
   "outputs": [
    {
     "data": {
      "image/png": "[encoded data removed]",
      "text/plain": [
       "<Figure size 432x288 with 1 Axes>"
      ]
     },
     "metadata": {
      "needs_background": "light"
     },
     "output_type": "display_data"
    },
    {
     "data": {
      "image/png": "[encoded data removed]",
      "text/plain": [
       "<Figure size 432x288 with 1 Axes>"
      ]
     },
     "metadata": {
      "needs_background": "light"
     },
     "output_type": "display_data"
    },
    {
     "data": {
      "image/png": "[encoded data removed]",
      "text/plain": [
       "<Figure size 432x288 with 1 Axes>"
      ]
     },
     "metadata": {
      "needs_background": "light"
     },
     "output_type": "display_data"
    },
    {
     "data": {
      "image/png": "[encoded data removed]",
      "text/plain": [
       "<Figure size 432x288 with 1 Axes>"
      ]
     },
     "metadata": {
      "needs_background": "light"
     },
     "output_type": "display_data"
    },
    {
     "data": {
      "image/png": "[encoded data removed]",
      "text/plain": [
       "<Figure size 432x288 with 1 Axes>"
      ]
     },
     "metadata": {
      "needs_background": "light"
     },
     "output_type": "display_data"
    },
    {
     "data": {
      "image/png": "[encoded data removed]",
      "text/plain": [
       "<Figure size 432x288 with 1 Axes>"
      ]
     },
     "metadata": {
      "needs_background": "light"
     },
     "output_type": "display_data"
    },
    {
     "data": {
      "image/png": "[encoded data removed]",
      "text/plain": [
       "<Figure size 432x288 with 1 Axes>"
      ]
     },
     "metadata": {
      "needs_background": "light"
     },
     "output_type": "display_data"
    },
    {
     "data": {
      "image/png": "[encoded data removed]",
      "text/plain": [
       "<Figure size 432x288 with 1 Axes>"
      ]
     },
     "metadata": {
      "needs_background": "light"
     },
     "output_type": "display_data"
    },
    {
     "data": {
      "image/png": "[encoded data removed]",
      "text/plain": [
       "<Figure size 432x288 with 1 Axes>"
      ]
     },
     "metadata": {
      "needs_background": "light"
     },
     "output_type": "display_data"
    },
    {
     "data": {
      "image/png": "[encoded data removed]",
      "text/plain": [
       "<Figure size 432x288 with 1 Axes>"
      ]
     },
     "metadata": {
      "needs_background": "light"
     },
     "output_type": "display_data"
    },
    {
     "data": {
      "image/png": "[encoded data removed]",
      "text/plain": [
       "<Figure size 432x288 with 1 Axes>"
      ]
     },
     "metadata": {
      "needs_background": "light"
     },
     "output_type": "display_data"
    },
    {
     "data": {
      "image/png": "[encoded data removed]",
      "text/plain": [
       "<Figure size 432x288 with 1 Axes>"
      ]
     },
     "metadata": {
      "needs_background": "light"
     },
     "output_type": "display_data"
    },
    {
     "data": {
      "image/png": "[encoded data removed]",
      "text/plain": [
       "<Figure size 432x288 with 1 Axes>"
      ]
     },
     "metadata": {
      "needs_background": "light"
     },
     "output_type": "display_data"
    }
   ],
   "source": [
    "#plot histgram of each numerical columns to visulize the distribution \n",
    "\n",
    "numeric_col = [1,3,4,6,7,8,9,10,11,12,13,14,15]\n",
    "\n",
    "for i in numeric_col:\n",
    "    plt.figure()\n",
    "    plt.hist(df[df.columns[i]], edgecolor='black')\n",
    "    plt.title(f'Distribution of {df.columns[i]}')\n",
    "    plt.show()"
   ]
  },
  {
   "cell_type": "code",
   "execution_count": 144,
   "metadata": {
    "ExecuteTime": {
     "end_time": "2020-03-18T10:04:11.468032Z",
     "start_time": "2020-03-18T10:04:11.452032Z"
    }
   },
   "outputs": [
    {
     "data": {
      "text/plain": [
       "'Dept'"
      ]
     },
     "execution_count": 144,
     "metadata": {},
     "output_type": "execute_result"
    }
   ],
   "source": [
    "df.columns[1]"
   ]
  }
 ],
 "metadata": {
  "kernelspec": {
   "display_name": "Python 3",
   "language": "python",
   "name": "python3"
  },
  "language_info": {
   "codemirror_mode": {
    "name": "ipython",
    "version": 3
   },
   "file_extension": ".py",
   "mimetype": "text/x-python",
   "name": "python",
   "nbconvert_exporter": "python",
   "pygments_lexer": "ipython3",
   "version": "3.7.3"
  },
  "toc": {
   "base_numbering": 1,
   "nav_menu": {},
   "number_sections": true,
   "sideBar": true,
   "skip_h1_title": false,
   "title_cell": "Table of Contents",
   "title_sidebar": "Contents",
   "toc_cell": false,
   "toc_position": {},
   "toc_section_display": true,
   "toc_window_display": true
  },
  "varInspector": {
   "cols": {
    "lenName": 16,
    "lenType": 16,
    "lenVar": 40
   },
   "kernels_config": {
    "python": {
     "delete_cmd_postfix": "",
     "delete_cmd_prefix": "del ",
     "library": "var_list.py",
     "varRefreshCmd": "print(var_dic_list())"
    },
    "r": {
     "delete_cmd_postfix": ") ",
     "delete_cmd_prefix": "rm(",
     "library": "var_list.r",
     "varRefreshCmd": "cat(var_dic_list()) "
    }
   },
   "types_to_exclude": [
    "module",
    "function",
    "builtin_function_or_method",
    "instance",
    "_Feature"
   ],
   "window_display": false
  }
 },
 "nbformat": 4,
 "nbformat_minor": 2
}
